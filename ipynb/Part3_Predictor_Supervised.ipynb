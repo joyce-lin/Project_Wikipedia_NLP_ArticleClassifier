{
 "cells": [
  {
   "cell_type": "code",
   "execution_count": 1,
   "metadata": {},
   "outputs": [
    {
     "name": "stdout",
     "output_type": "stream",
     "text": [
      "Requirement already satisfied (use --upgrade to upgrade): redis in /opt/conda/lib/python3.5/site-packages\r\n",
      "\u001b[33mYou are using pip version 8.1.2, however version 9.0.1 is available.\r\n",
      "You should consider upgrading via the 'pip install --upgrade pip' command.\u001b[0m\r\n"
     ]
    }
   ],
   "source": [
    "import pickle\n",
    "!pip install redis\n",
    "import redis\n",
    "redis_ip = '34.212.59.71'"
   ]
  },
  {
   "cell_type": "code",
   "execution_count": 2,
   "metadata": {},
   "outputs": [],
   "source": [
    "r = redis.StrictRedis(redis_ip)\n",
    "LSA = pickle.loads(r.get('tbl_LSA'))\n",
    "vocabulary_expression = pickle.loads(r.get('tbl_vocabulary_expression'))"
   ]
  },
  {
   "cell_type": "code",
   "execution_count": 3,
   "metadata": {
    "collapsed": true
   },
   "outputs": [],
   "source": [
    "import numpy as np\n",
    "import pandas as pd\n",
    "import seaborn as sns\n",
    "import scipy.sparse as sparse\n",
    "from scipy.spatial.distance import cosine\n",
    "from spacy.en import English\n",
    "from sklearn.neighbors import NearestNeighbors\n",
    "from sklearn.decomposition import TruncatedSVD\n",
    "from sklearn.feature_extraction.text import TfidfVectorizer, CountVectorizer\n",
    "from sklearn.model_selection import GridSearchCV\n",
    "from sklearn.neighbors import KNeighborsClassifier\n",
    "from sklearn.preprocessing import LabelEncoder, OneHotEncoder\n",
    "from sklearn.tree import DecisionTreeClassifier\n",
    "import matplotlib.pyplot as plt\n",
    "\n",
    "%matplotlib inline"
   ]
  },
  {
   "cell_type": "code",
   "execution_count": 4,
   "metadata": {},
   "outputs": [
    {
     "data": {
      "text/html": [
       "<div>\n",
       "<table border=\"1\" class=\"dataframe\">\n",
       "  <thead>\n",
       "    <tr style=\"text-align: right;\">\n",
       "      <th></th>\n",
       "      <th>component_1</th>\n",
       "      <th>component_2</th>\n",
       "      <th>component_3</th>\n",
       "      <th>component_4</th>\n",
       "      <th>component_5</th>\n",
       "      <th>component_6</th>\n",
       "      <th>component_7</th>\n",
       "      <th>component_8</th>\n",
       "      <th>component_9</th>\n",
       "      <th>component_10</th>\n",
       "      <th>...</th>\n",
       "      <th>component_794</th>\n",
       "      <th>component_795</th>\n",
       "      <th>component_796</th>\n",
       "      <th>component_797</th>\n",
       "      <th>component_798</th>\n",
       "      <th>component_799</th>\n",
       "      <th>component_800</th>\n",
       "      <th>title</th>\n",
       "      <th>category</th>\n",
       "      <th>content</th>\n",
       "    </tr>\n",
       "  </thead>\n",
       "  <tbody>\n",
       "    <tr>\n",
       "      <th>0</th>\n",
       "      <td>0.089703</td>\n",
       "      <td>-0.062023</td>\n",
       "      <td>0.025137</td>\n",
       "      <td>0.037325</td>\n",
       "      <td>-0.013474</td>\n",
       "      <td>0.025683</td>\n",
       "      <td>-0.007717</td>\n",
       "      <td>0.017116</td>\n",
       "      <td>-0.005195</td>\n",
       "      <td>-0.015903</td>\n",
       "      <td>...</td>\n",
       "      <td>0.004071</td>\n",
       "      <td>-0.023051</td>\n",
       "      <td>-0.006449</td>\n",
       "      <td>0.003322</td>\n",
       "      <td>0.010939</td>\n",
       "      <td>0.003897</td>\n",
       "      <td>-0.011495</td>\n",
       "      <td>(1+ε)-approximate nearest neighbor search</td>\n",
       "      <td>machine learning</td>\n",
       "      <td>approximate near neighbor search special case ...</td>\n",
       "    </tr>\n",
       "    <tr>\n",
       "      <th>1</th>\n",
       "      <td>0.180721</td>\n",
       "      <td>-0.183607</td>\n",
       "      <td>0.046931</td>\n",
       "      <td>0.148432</td>\n",
       "      <td>-0.034707</td>\n",
       "      <td>0.116325</td>\n",
       "      <td>0.029397</td>\n",
       "      <td>-0.003574</td>\n",
       "      <td>-0.066231</td>\n",
       "      <td>0.285732</td>\n",
       "      <td>...</td>\n",
       "      <td>-0.002134</td>\n",
       "      <td>0.026923</td>\n",
       "      <td>0.004420</td>\n",
       "      <td>0.002639</td>\n",
       "      <td>0.007617</td>\n",
       "      <td>0.005754</td>\n",
       "      <td>0.007940</td>\n",
       "      <td>ADALINE</td>\n",
       "      <td>machine learning</td>\n",
       "      <td>adaline adaptive linear neuron later adaptive ...</td>\n",
       "    </tr>\n",
       "  </tbody>\n",
       "</table>\n",
       "<p>2 rows × 803 columns</p>\n",
       "</div>"
      ],
      "text/plain": [
       "   component_1  component_2  component_3  component_4  component_5  \\\n",
       "0     0.089703    -0.062023     0.025137     0.037325    -0.013474   \n",
       "1     0.180721    -0.183607     0.046931     0.148432    -0.034707   \n",
       "\n",
       "   component_6  component_7  component_8  component_9  component_10  \\\n",
       "0     0.025683    -0.007717     0.017116    -0.005195     -0.015903   \n",
       "1     0.116325     0.029397    -0.003574    -0.066231      0.285732   \n",
       "\n",
       "                         ...                          component_794  \\\n",
       "0                        ...                               0.004071   \n",
       "1                        ...                              -0.002134   \n",
       "\n",
       "   component_795  component_796  component_797  component_798  component_799  \\\n",
       "0      -0.023051      -0.006449       0.003322       0.010939       0.003897   \n",
       "1       0.026923       0.004420       0.002639       0.007617       0.005754   \n",
       "\n",
       "   component_800                                      title          category  \\\n",
       "0      -0.011495  (1+ε)-approximate nearest neighbor search  machine learning   \n",
       "1       0.007940                                    ADALINE  machine learning   \n",
       "\n",
       "                                             content  \n",
       "0  approximate near neighbor search special case ...  \n",
       "1  adaline adaptive linear neuron later adaptive ...  \n",
       "\n",
       "[2 rows x 803 columns]"
      ]
     },
     "execution_count": 4,
     "metadata": {},
     "output_type": "execute_result"
    }
   ],
   "source": [
    "LSA.head(2)"
   ]
  },
  {
   "cell_type": "code",
   "execution_count": 5,
   "metadata": {
    "collapsed": true
   },
   "outputs": [],
   "source": [
    "#  x train\n",
    "LSA_components = LSA.drop(['category','title','content'], axis = 1)"
   ]
  },
  {
   "cell_type": "code",
   "execution_count": 6,
   "metadata": {
    "collapsed": true
   },
   "outputs": [],
   "source": [
    "# y train\n",
    "cat = LSA['category']\n",
    "cat_dummies = pd.get_dummies(cat)"
   ]
  },
  {
   "cell_type": "code",
   "execution_count": 7,
   "metadata": {
    "collapsed": true
   },
   "outputs": [],
   "source": [
    "dtc = DecisionTreeClassifier()\n",
    "knc = KNeighborsClassifier()"
   ]
  },
  {
   "cell_type": "code",
   "execution_count": 8,
   "metadata": {
    "collapsed": true
   },
   "outputs": [],
   "source": [
    "param_dtc = {\n",
    "    'max_depth':[3,6,9,12],\n",
    "    'min_samples_leaf': [2,5,10,15]   \n",
    "}\n",
    "\n",
    "param_knc = {\n",
    "     'n_neighbors': [5,10,15], \n",
    "     'leaf_size': [20,30]\n",
    "}"
   ]
  },
  {
   "cell_type": "code",
   "execution_count": 9,
   "metadata": {},
   "outputs": [
    {
     "data": {
      "text/plain": [
       "GridSearchCV(cv=5, error_score='raise',\n",
       "       estimator=DecisionTreeClassifier(class_weight=None, criterion='gini', max_depth=None,\n",
       "            max_features=None, max_leaf_nodes=None,\n",
       "            min_impurity_split=1e-07, min_samples_leaf=1,\n",
       "            min_samples_split=2, min_weight_fraction_leaf=0.0,\n",
       "            presort=False, random_state=None, splitter='best'),\n",
       "       fit_params={}, iid=True, n_jobs=-1,\n",
       "       param_grid={'max_depth': [3, 6, 9, 12], 'min_samples_leaf': [2, 5, 10, 15]},\n",
       "       pre_dispatch='2*n_jobs', refit=True, return_train_score=True,\n",
       "       scoring=None, verbose=0)"
      ]
     },
     "execution_count": 9,
     "metadata": {},
     "output_type": "execute_result"
    }
   ],
   "source": [
    "gs_dtc = GridSearchCV(dtc, param_grid=param_dtc,cv=5,n_jobs = -1)\n",
    "gs_dtc.fit(LSA_components, cat_dummies)"
   ]
  },
  {
   "cell_type": "code",
   "execution_count": 10,
   "metadata": {},
   "outputs": [
    {
     "name": "stderr",
     "output_type": "stream",
     "text": [
      "/opt/conda/lib/python3.5/site-packages/ipykernel_launcher.py:2: FutureWarning: sort(columns=....) is deprecated, use sort_values(by=.....)\n",
      "  \n"
     ]
    },
    {
     "data": {
      "text/html": [
       "<div>\n",
       "<table border=\"1\" class=\"dataframe\">\n",
       "  <thead>\n",
       "    <tr style=\"text-align: right;\">\n",
       "      <th></th>\n",
       "      <th>13</th>\n",
       "      <th>9</th>\n",
       "      <th>14</th>\n",
       "      <th>10</th>\n",
       "      <th>8</th>\n",
       "    </tr>\n",
       "  </thead>\n",
       "  <tbody>\n",
       "    <tr>\n",
       "      <th>mean_test_score</th>\n",
       "      <td>0.520565</td>\n",
       "      <td>0.519682</td>\n",
       "      <td>0.512621</td>\n",
       "      <td>0.506796</td>\n",
       "      <td>0.500441</td>\n",
       "    </tr>\n",
       "    <tr>\n",
       "      <th>mean_train_score</th>\n",
       "      <td>0.940468</td>\n",
       "      <td>0.92767</td>\n",
       "      <td>0.911518</td>\n",
       "      <td>0.907282</td>\n",
       "      <td>0.939629</td>\n",
       "    </tr>\n",
       "    <tr>\n",
       "      <th>param_max_depth</th>\n",
       "      <td>12</td>\n",
       "      <td>9</td>\n",
       "      <td>12</td>\n",
       "      <td>9</td>\n",
       "      <td>9</td>\n",
       "    </tr>\n",
       "    <tr>\n",
       "      <th>param_min_samples_leaf</th>\n",
       "      <td>5</td>\n",
       "      <td>5</td>\n",
       "      <td>10</td>\n",
       "      <td>10</td>\n",
       "      <td>2</td>\n",
       "    </tr>\n",
       "  </tbody>\n",
       "</table>\n",
       "</div>"
      ],
      "text/plain": [
       "                              13        9         14        10        8 \n",
       "mean_test_score         0.520565  0.519682  0.512621  0.506796  0.500441\n",
       "mean_train_score        0.940468   0.92767  0.911518  0.907282  0.939629\n",
       "param_max_depth               12         9        12         9         9\n",
       "param_min_samples_leaf         5         5        10        10         2"
      ]
     },
     "execution_count": 10,
     "metadata": {},
     "output_type": "execute_result"
    }
   ],
   "source": [
    "gs_dtc_res_df = pd.DataFrame(gs_dtc.cv_results_)\n",
    "gs_dtc_res_df.sort('rank_test_score',ascending=True).head(5).T[2:6]"
   ]
  },
  {
   "cell_type": "code",
   "execution_count": null,
   "metadata": {},
   "outputs": [],
   "source": [
    "gs_knc = GridSearchCV(knc, param_grid=param_knc,cv=5,n_jobs = -1)\n",
    "gs_knc.fit(LSA_components, cat_dummies)"
   ]
  },
  {
   "cell_type": "code",
   "execution_count": null,
   "metadata": {},
   "outputs": [],
   "source": [
    "gs_knc_res_df = pd.DataFrame(gs_knc.cv_results_)\n",
    "gs_knc_res_df.sort('rank_test_score',ascending=True).head(5).T[2:6]"
   ]
  },
  {
   "cell_type": "code",
   "execution_count": null,
   "metadata": {
    "collapsed": true
   },
   "outputs": [],
   "source": []
  },
  {
   "cell_type": "code",
   "execution_count": null,
   "metadata": {
    "collapsed": true
   },
   "outputs": [],
   "source": []
  }
 ],
 "metadata": {
  "kernelspec": {
   "display_name": "Python 3",
   "language": "python",
   "name": "python3"
  },
  "language_info": {
   "codemirror_mode": {
    "name": "ipython",
    "version": 3
   },
   "file_extension": ".py",
   "mimetype": "text/x-python",
   "name": "python",
   "nbconvert_exporter": "python",
   "pygments_lexer": "ipython3",
   "version": "3.5.2"
  }
 },
 "nbformat": 4,
 "nbformat_minor": 2
}
