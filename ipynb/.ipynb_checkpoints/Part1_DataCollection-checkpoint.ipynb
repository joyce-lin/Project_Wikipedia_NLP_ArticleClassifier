{
 "cells": [
  {
   "cell_type": "code",
   "execution_count": 1,
   "metadata": {
    "collapsed": true
   },
   "outputs": [],
   "source": [
    "import re\n",
    "import requests\n",
    "import pandas as pd\n",
    "import numpy as np\n",
    "import json\n",
    "from IPython.display import display\n",
    "import sys\n",
    "sys.setrecursionlimit(6000)"
   ]
  },
  {
   "cell_type": "markdown",
   "metadata": {},
   "source": [
    "#### Set up Mongo DB"
   ]
  },
  {
   "cell_type": "code",
   "execution_count": 2,
   "metadata": {
    "scrolled": false
   },
   "outputs": [
    {
     "name": "stdout",
     "output_type": "stream",
     "text": [
      "Requirement already satisfied (use --upgrade to upgrade): pymongo in /opt/conda/lib/python3.5/site-packages\n",
      "\u001b[33mYou are using pip version 8.1.2, however version 9.0.1 is available.\n",
      "You should consider upgrading via the 'pip install --upgrade pip' command.\u001b[0m\n"
     ]
    }
   ],
   "source": [
    "!pip install pymongo\n",
    "import pymongo\n",
    "cli = pymongo.MongoClient(host='34.210.97.79')"
   ]
  },
  {
   "cell_type": "code",
   "execution_count": 3,
   "metadata": {
    "scrolled": true
   },
   "outputs": [
    {
     "data": {
      "text/plain": [
       "['admin', 'local', 'wiki_mongo_database', 'wiki_mongo_db']"
      ]
     },
     "execution_count": 3,
     "metadata": {},
     "output_type": "execute_result"
    }
   ],
   "source": [
    "cli.database_names()"
   ]
  },
  {
   "cell_type": "code",
   "execution_count": 4,
   "metadata": {
    "scrolled": true
   },
   "outputs": [
    {
     "data": {
      "text/plain": [
       "['admin', 'local', 'wiki_mongo_database', 'wiki_mongo_db']"
      ]
     },
     "execution_count": 4,
     "metadata": {},
     "output_type": "execute_result"
    }
   ],
   "source": [
    "#Create a reference to a database\n",
    "wiki_mongo_database = cli.wiki_mongo_database\n",
    "cli.database_names()"
   ]
  },
  {
   "cell_type": "code",
   "execution_count": 5,
   "metadata": {},
   "outputs": [
    {
     "data": {
      "text/plain": [
       "['admin', 'local', 'wiki_mongo_database', 'wiki_mongo_db']"
      ]
     },
     "execution_count": 5,
     "metadata": {},
     "output_type": "execute_result"
    }
   ],
   "source": [
    "#Create a reference to a collection\n",
    "wiki_mongo_collection = cli.wiki_mongo_database.wiki_mongo_collection\n",
    "cli.database_names()"
   ]
  },
  {
   "cell_type": "markdown",
   "metadata": {},
   "source": [
    "### Using Wikipedia Python Library"
   ]
  },
  {
   "cell_type": "code",
   "execution_count": 6,
   "metadata": {},
   "outputs": [
    {
     "name": "stdout",
     "output_type": "stream",
     "text": [
      "Collecting wikipedia\n",
      "  Downloading wikipedia-1.4.0.tar.gz\n",
      "Requirement already satisfied (use --upgrade to upgrade): beautifulsoup4 in /opt/conda/lib/python3.5/site-packages (from wikipedia)\n",
      "Requirement already satisfied (use --upgrade to upgrade): requests<3.0.0,>=2.0.0 in /opt/conda/lib/python3.5/site-packages (from wikipedia)\n",
      "Building wheels for collected packages: wikipedia\n",
      "  Running setup.py bdist_wheel for wikipedia ... \u001b[?25ldone\n",
      "\u001b[?25h  Stored in directory: /home/jovyan/.cache/pip/wheels/bf/87/25/df698dd7b66a42c1c5f3bd36f8155d4518d210f5e2c128b440\n",
      "Successfully built wikipedia\n",
      "Installing collected packages: wikipedia\n",
      "Successfully installed wikipedia-1.4.0\n",
      "\u001b[33mYou are using pip version 8.1.2, however version 9.0.1 is available.\n",
      "You should consider upgrading via the 'pip install --upgrade pip' command.\u001b[0m\n"
     ]
    }
   ],
   "source": [
    "! pip install wikipedia"
   ]
  },
  {
   "cell_type": "code",
   "execution_count": 7,
   "metadata": {
    "collapsed": true
   },
   "outputs": [],
   "source": [
    "import wikipedia"
   ]
  },
  {
   "cell_type": "code",
   "execution_count": 55,
   "metadata": {
    "collapsed": true,
    "scrolled": true
   },
   "outputs": [],
   "source": [
    "DEBUG = True\n",
    "VERBOSE = True\n",
    "\n",
    "#if VERBOSE: print ('generating query string fpr pageid{}'.format(pageid))\n",
    "#if DEBUG: print(response_json)\n",
    "def qry_category(category):\n",
    "    new_str = re.sub('\\s','+', category) \n",
    "    r = requests.get('http://en.wikipedia.org/w/api.php?\\\n",
    "                     action=query&\\\n",
    "                     format=json&\\\n",
    "                     list=categorymembers&\\\n",
    "                     cmtitle=Category%3A+{}&\\\n",
    "                     cmlimit=max'.format(new_str))\n",
    "    re.sub('\\s','+', category)\n",
    "    return pd.DataFrame(r.json()['query']['categorymembers'])\n",
    "\n",
    "\n",
    "def get_page_df(category):\n",
    "    ml_df = qry_category(category)\n",
    "    pages_list=[]\n",
    "    page_df = ml_df[~ml_df['title'].str.contains('Category:')]\n",
    "    page_df['category'] = category\n",
    "    pages_list.append(page_df)\n",
    "    category_df = ml_df[ml_df['title'].str.contains('Category:')]\n",
    "    categories = category_df[category_df['title'].str.contains('Category:')]['title'].str.replace('Category:',\"\")\n",
    "#    if (category_df.shape[0]>0 and category_df.shape[0]<30):             \n",
    "#        try:\n",
    "#            for category in categories:\n",
    "#                pages_list.append(get_page_df(category))\n",
    "#                if VERBOSE: print ('current_category: {}'.format(category))\n",
    "#        except KeyError:\n",
    "#          pass\n",
    "    pages_df = pd.concat(pages_list)\n",
    "    pages_df = pages_df.sort_values(by='title', axis=0, ascending=True)\n",
    "    return pages_df\n",
    "\n",
    "def get_pages_for_category(category):\n",
    "    df =get_page_df(category)\n",
    "    df['category'] = category\n",
    "    df = df.reset_index()\n",
    "    return df\n",
    "\n",
    "def insert_to_wiki_mongo(Category='main page'):\n",
    "    df = get_page_df(Category)\n",
    "    dict_list = []\n",
    "    for i in df['pageid']:\n",
    "        try:\n",
    "            page= wikipedia.page(pageid=i)\n",
    "            if VERBOSE: print(page.pageid,page.title)\n",
    "            dict_ = {\n",
    "                \"pageid\":page.pageid,\n",
    "                \"title\":page.title,\n",
    "                \"content\":page.content,\n",
    "                \"category\":Category,\n",
    "                   }\n",
    "           \n",
    "            wiki_mongo_collection.update_one(dict_,{'$set': dict_}, upsert=True)\n",
    "        except AttributeError:\n",
    "            pass\n",
    "        except ValueError:\n",
    "            print(dict_)\n",
    "            raise\n",
    "    return cli.database_names(), wiki_mongo_collection.count()"
   ]
  },
  {
   "cell_type": "code",
   "execution_count": 56,
   "metadata": {
    "scrolled": true
   },
   "outputs": [
    {
     "name": "stderr",
     "output_type": "stream",
     "text": [
      "/opt/conda/lib/python3.5/site-packages/ipykernel_launcher.py:17: SettingWithCopyWarning: \n",
      "A value is trying to be set on a copy of a slice from a DataFrame.\n",
      "Try using .loc[row_indexer,col_indexer] = value instead\n",
      "\n",
      "See the caveats in the documentation: http://pandas.pydata.org/pandas-docs/stable/indexing.html#indexing-view-versus-copy\n"
     ]
    },
    {
     "name": "stdout",
     "output_type": "stream",
     "text": [
      "2944526 Abhyasa\n",
      "53333348 Adiyogi Shiva statue\n",
      "42597133 Adrishta\n",
      "4642992 Ajapa\n",
      "41986762 Akrodha\n",
      "43283496 Alambana\n",
      "42128131 Amritabindu Upanishad\n",
      "46636614 Anasakti Yoga\n",
      "41286780 Anavastha\n",
      "41767114 André Van Lysebeth\n",
      "37034939 Antaraṅga\n",
      "43562594 Anti-gravity yoga\n",
      "45449589 AntiGravity Fitness\n",
      "6770481 Aparigraha\n",
      "43262117 Aparoksha\n",
      "41656647 Arhatic yoga\n",
      "44849453 Arjava\n",
      "45001834 Ataptatanu\n",
      "40016783 Bachelor of Naturopathy and Yoga\n",
      "52306477 Baddha padmasana\n",
      "37034919 Bahiraṅga\n",
      "31816488 Bandha (Yoga)\n",
      "175567 Bhakti\n",
      "359983 Bhakti yoga\n",
      "46249607 Bhrama (illusion)\n",
      "24246250 Brahmamuhurtha\n",
      "41741591 Breath of the Gods\n",
      "42243433 Chanchala\n",
      "53562978 Clairvoyance (book)\n",
      "45482242 Copyright claims on Bikram Yoga\n",
      "46879205 Core Strength Vinyasa Yoga\n",
      "18357172 Dhauti\n",
      "41997235 Dhrti\n",
      "4966357 Dhyana in Hinduism\n",
      "949007 Dhāraṇā\n",
      "45521178 Divya-drishti\n",
      "44876012 Dvadasanta\n",
      "41918859 Ekagrata\n",
      "33685498 Forrest Yoga\n",
      "28757576 Gupta-Vidya\n",
      "35304964 Hasta Vinyasas\n",
      "315141 Hatha yoga\n",
      "39714194 HeavyWeight Yoga\n",
      "3517209 Hiranyagarbha\n",
      "31610812 Hugger Mugger Yoga Products\n",
      "16189822 Iccha-shakti\n",
      "41807996 Idam\n",
      "41738745 Ikshana\n",
      "29575633 Inhale Yoga with Steve Ross\n",
      "53265089 Integrated Movement Therapy\n",
      "53473341 Integration movement therapy\n",
      "44270128 International Yoga Day\n",
      "8929321 Ishvarapranidhana\n",
      "18338441 Jalandhara Bandha\n",
      "24385757 Jangama dhyana\n",
      "42294996 Janita Stenhouse\n",
      "33069452 Jivamukti Yoga\n",
      "582687 Jnana\n",
      "744158 Jnana yoga\n",
      "12045081 Kaivalya\n",
      "37941373 Kaosikii dance\n",
      "23796787 Kayotsarga\n",
      "35818571 Keśin\n",
      "1009112 Kriyā\n",
      "38023657 Kumar Anish\n",
      "4465206 Kumbhaka\n",
      "16995 Kundalini\n",
      "92222 Kundalini yoga\n",
      "41731521 Lakshana\n",
      "49977564 List of Indian yoga gurus\n",
      "1632919 List of asanas\n",
      "39119307 List of mudras (yoga)\n",
      "4020320 Lululemon Athletica\n",
      "14901686 Lung (Tibetan Buddhism)\n",
      "25385379 Maha Bandha\n",
      "1068703 Mahasamādhi\n",
      "42635329 Mauna (silence)\n",
      "26197252 Medical yoga\n",
      "20062 Meditation\n",
      "47645891 Michael Huggins\n",
      "32379669 Michelle Paisley\n",
      "2190718 Mind Stream\n",
      "44856939 Mitahara\n",
      "43273537 Morarji Desai National Institute of Yoga\n",
      "12638751 Mula Bandha\n",
      "49872271 N'Yoga\n",
      "39167804 N. C. Paul\n",
      "1262175 Nadi (yoga)\n",
      "4481996 Naked Yoga (film)\n",
      "41142900 Namaste Yoga\n",
      "21070846 National Yoga Month\n",
      "24185573 Navel displacement\n",
      "12224247 Nirbīja\n",
      "621350 Niyama\n",
      "23727907 Nāda yoga\n",
      "45165495 Om Swami\n",
      "29828807 Paddle board yoga\n",
      "45703740 Pancha Bhoota\n",
      "1718457 Paramatman\n",
      "43363726 Pashyanti\n",
      "23806 Patanjali\n",
      "42273256 Philosophy of experience\n",
      "31122595 Plank (exercise)\n",
      "28081762 Pop-up yoga\n",
      "42171408 Prajñā (Hinduism)\n",
      "261596 Prana\n",
      "632990 Pranayama\n",
      "949023 Pratyahara\n",
      "43313383 Pratyaksha\n",
      "44542365 Prayatna\n",
      "42528356 Punaana\n",
      "43427437 Raksha (Vedic)\n",
      "38238331 Recovering Yogi\n",
      "628346 Rāja yoga\n",
      "37035685 Sabīja\n",
      "37827749 Sadguru Hambir Baba\n",
      "147613 Samadhi\n",
      "43454923 Samanadhikaranya\n",
      "9507907 Samyama\n",
      "1302046 Samāpatti\n",
      "39578486 Santa Fe Yoga Festival\n",
      "8455379 Santosha\n",
      "11003581 Sattvic diet\n",
      "656993 Seven stages (Yogi)\n",
      "8455324 Shaucha\n",
      "201232 Siddhi\n",
      "501282 Soham (Sanskrit)\n",
      "2900869 Spiritual practice\n",
      "1017009 Surat Shabd Yoga\n",
      "46230029 Svena\n",
      "6898399 Svādhyāya\n",
      "23849679 SwáSthya Yôga\n",
      "41755964 Tanmatras\n",
      "1358357 Tapas (Sanskrit)\n",
      "315165 Techniques of Knowledge\n",
      "42126614 Tejobindu Upanishad\n",
      "21246643 Template:Asana\n",
      "17366046 Template:Hindu Practices\n",
      "2844245 Template:Yoga\n",
      "3275488 The Holy Science\n",
      "31368675 Theos Casimir Bernard\n",
      "31813523 Three Yogas\n",
      "42195085 Timli Sanskrit Pathshala\n",
      "44169665 Titiksha\n",
      "42734 Transcendental Meditation\n",
      "28677895 Transcendental Meditation technique\n",
      "29020782 TriBalance Hot Yoga\n",
      "5545123 Trikona\n",
      "3183949 Trāṭaka\n",
      "37886355 Twisting Pose Dedicated to Bharadvaja - Bharadvajasana\n",
      "18338165 Uddiyana bandha\n",
      "52983374 User:VictoriaGrayson/sandbox/hatha\n",
      "42233632 Utsaha\n",
      "35863013 Vaasi Yoga\n",
      "44978473 Vibhu\n",
      "446965 Vibhuti\n",
      "43382131 Vidya (Knowledge)\n",
      "407476 Vritti\n",
      "49786734 Wai Lana Yoga\n",
      "44086758 YYoga\n",
      "1355819 Yamas\n",
      "18911094 Yin yoga\n",
      "34258 Yoga\n",
      "47035547 Yoga (philosophy)\n",
      "21495296 Yoga for You\n",
      "36971621 Yoga for children\n",
      "13412771 Yoga mat\n",
      "988753 Yoga nidra\n",
      "33740268 Yoga pants\n",
      "42905001 Yoga physiology\n",
      "3450701 Yoga piracy\n",
      "1391123 Yoga-darsana\n",
      "53333341 Yoga: From The Ganges to Wall Street (Book)\n",
      "42866508 Yogi Vilasnath Maharaj\n",
      "888253 Yogic marriage\n",
      "17125359 Zen yoga\n",
      "52785478 Hanitu\n",
      "46452300 Hoklo Taiwanese\n",
      "16285622 Outline of Taiwan\n",
      "25734 Taiwan\n"
     ]
    },
    {
     "data": {
      "text/plain": [
       "(['admin', 'local', 'wiki_mongo_database', 'wiki_mongo_db'], 5897)"
      ]
     },
     "execution_count": 56,
     "metadata": {},
     "output_type": "execute_result"
    }
   ],
   "source": [
    "#insert_to_wiki_mongo('machine learning')\n",
    "#insert_to_wiki_mongo('Microsoft Office')\n",
    "#insert_to_wiki_mongo('Geographic information systems')\n",
    "#insert_to_wiki_mongo('History of the petroleum industry')\n",
    "#insert_to_wiki_mongo('Yoga techniques')\n",
    "#insert_to_wiki_mongo('Business intelligence')\n",
    "#insert_to_wiki_mongo('Culture_in_Taipei')\n",
    "#insert_to_wiki_mongo('Statistical_methods')\n",
    "#insert_to_wiki_mongo('Diets')\n",
    "#insert_to_wiki_mongo('Social_media')\n",
    "#insert_to_wiki_mongo('History_of_Taiwan')\n",
    "#insert_to_wiki_mongo('Taiwan_under_Japanese_rule')\n",
    "#insert_to_wiki_mongo('Taiwan independence movement')\n",
    "#insert_to_wiki_mongo('Yogis')\n",
    "insert_to_wiki_mongo('Yoga')\n",
    "insert_to_wiki_mongo('Taiwan')\n",
    "#### Too many sub categories for recursive\n",
    "#### insert_to_wiki_mongo('Business software')\n"
   ]
  },
  {
   "cell_type": "code",
   "execution_count": 57,
   "metadata": {},
   "outputs": [
    {
     "data": {
      "text/plain": [
       "5897"
      ]
     },
     "execution_count": 57,
     "metadata": {},
     "output_type": "execute_result"
    }
   ],
   "source": [
    "wiki_mongo_collection.count()"
   ]
  },
  {
   "cell_type": "code",
   "execution_count": 40,
   "metadata": {},
   "outputs": [
    {
     "data": {
      "text/html": [
       "<div>\n",
       "<table border=\"1\" class=\"dataframe\">\n",
       "  <thead>\n",
       "    <tr style=\"text-align: right;\">\n",
       "      <th></th>\n",
       "      <th>_id</th>\n",
       "      <th>category</th>\n",
       "      <th>clean_content</th>\n",
       "      <th>content</th>\n",
       "      <th>pageid</th>\n",
       "      <th>title</th>\n",
       "    </tr>\n",
       "  </thead>\n",
       "  <tbody>\n",
       "    <tr>\n",
       "      <th>0</th>\n",
       "      <td>591b9c60ad28cdd96d814531</td>\n",
       "      <td>machine learning</td>\n",
       "      <td>approximate near neighbor search special case ...</td>\n",
       "      <td>(1+ε)-approximate nearest neighbor search is a...</td>\n",
       "      <td>32003319</td>\n",
       "      <td>(1+ε)-approximate nearest neighbor search</td>\n",
       "    </tr>\n",
       "    <tr>\n",
       "      <th>1</th>\n",
       "      <td>591b9c65ad28cdd96d814535</td>\n",
       "      <td>machine learning</td>\n",
       "      <td>adaline adaptive linear neuron later adaptive ...</td>\n",
       "      <td>ADALINE (Adaptive Linear Neuron or later Adapt...</td>\n",
       "      <td>8220913</td>\n",
       "      <td>ADALINE</td>\n",
       "    </tr>\n",
       "    <tr>\n",
       "      <th>2</th>\n",
       "      <td>591b9c66ad28cdd96d814538</td>\n",
       "      <td>machine learning</td>\n",
       "      <td>ai formally know dartmouth artificial intellig...</td>\n",
       "      <td>AI@50, formally known as the \"Dartmouth Artifi...</td>\n",
       "      <td>27562454</td>\n",
       "      <td>AI@50</td>\n",
       "    </tr>\n",
       "    <tr>\n",
       "      <th>3</th>\n",
       "      <td>591b9c67ad28cdd96d81453a</td>\n",
       "      <td>machine learning</td>\n",
       "      <td>aiva artificial intelligence virtual artist de...</td>\n",
       "      <td>AIVA (Artificial Intelligence Virtual Artist) ...</td>\n",
       "      <td>52642349</td>\n",
       "      <td>AIVA</td>\n",
       "    </tr>\n",
       "    <tr>\n",
       "      <th>4</th>\n",
       "      <td>591b9c6aad28cdd96d81453e</td>\n",
       "      <td>machine learning</td>\n",
       "      <td>aixi ai si theoretical mathematical formalism ...</td>\n",
       "      <td>AIXI ['ai̯k͡siː] is a theoretical mathematical...</td>\n",
       "      <td>30511763</td>\n",
       "      <td>AIXI</td>\n",
       "    </tr>\n",
       "  </tbody>\n",
       "</table>\n",
       "</div>"
      ],
      "text/plain": [
       "                        _id          category  \\\n",
       "0  591b9c60ad28cdd96d814531  machine learning   \n",
       "1  591b9c65ad28cdd96d814535  machine learning   \n",
       "2  591b9c66ad28cdd96d814538  machine learning   \n",
       "3  591b9c67ad28cdd96d81453a  machine learning   \n",
       "4  591b9c6aad28cdd96d81453e  machine learning   \n",
       "\n",
       "                                       clean_content  \\\n",
       "0  approximate near neighbor search special case ...   \n",
       "1  adaline adaptive linear neuron later adaptive ...   \n",
       "2  ai formally know dartmouth artificial intellig...   \n",
       "3  aiva artificial intelligence virtual artist de...   \n",
       "4  aixi ai si theoretical mathematical formalism ...   \n",
       "\n",
       "                                             content    pageid  \\\n",
       "0  (1+ε)-approximate nearest neighbor search is a...  32003319   \n",
       "1  ADALINE (Adaptive Linear Neuron or later Adapt...   8220913   \n",
       "2  AI@50, formally known as the \"Dartmouth Artifi...  27562454   \n",
       "3  AIVA (Artificial Intelligence Virtual Artist) ...  52642349   \n",
       "4  AIXI ['ai̯k͡siː] is a theoretical mathematical...  30511763   \n",
       "\n",
       "                                       title  \n",
       "0  (1+ε)-approximate nearest neighbor search  \n",
       "1                                    ADALINE  \n",
       "2                                      AI@50  \n",
       "3                                       AIVA  \n",
       "4                                       AIXI  "
      ]
     },
     "execution_count": 40,
     "metadata": {},
     "output_type": "execute_result"
    }
   ],
   "source": [
    "wiki_df = pd.DataFrame(list(cli.wiki_mongo_database.wiki_mongo_collection.find({})))\n",
    "wiki_df.head()"
   ]
  },
  {
   "cell_type": "code",
   "execution_count": 60,
   "metadata": {
    "scrolled": true
   },
   "outputs": [
    {
     "data": {
      "text/html": [
       "<div>\n",
       "<table border=\"1\" class=\"dataframe\">\n",
       "  <thead>\n",
       "    <tr style=\"text-align: right;\">\n",
       "      <th></th>\n",
       "      <th>_id</th>\n",
       "      <th>clean_content</th>\n",
       "      <th>content</th>\n",
       "      <th>pageid</th>\n",
       "      <th>title</th>\n",
       "    </tr>\n",
       "    <tr>\n",
       "      <th>category</th>\n",
       "      <th></th>\n",
       "      <th></th>\n",
       "      <th></th>\n",
       "      <th></th>\n",
       "      <th></th>\n",
       "    </tr>\n",
       "  </thead>\n",
       "  <tbody>\n",
       "    <tr>\n",
       "      <th>Business intelligence</th>\n",
       "      <td>1174</td>\n",
       "      <td>1174</td>\n",
       "      <td>1174</td>\n",
       "      <td>1174</td>\n",
       "      <td>1174</td>\n",
       "    </tr>\n",
       "    <tr>\n",
       "      <th>Geographic information systems</th>\n",
       "      <td>520</td>\n",
       "      <td>520</td>\n",
       "      <td>520</td>\n",
       "      <td>520</td>\n",
       "      <td>520</td>\n",
       "    </tr>\n",
       "    <tr>\n",
       "      <th>Microsoft Office</th>\n",
       "      <td>186</td>\n",
       "      <td>186</td>\n",
       "      <td>186</td>\n",
       "      <td>186</td>\n",
       "      <td>186</td>\n",
       "    </tr>\n",
       "    <tr>\n",
       "      <th>Petroleum</th>\n",
       "      <td>1418</td>\n",
       "      <td>1418</td>\n",
       "      <td>1418</td>\n",
       "      <td>1418</td>\n",
       "      <td>1418</td>\n",
       "    </tr>\n",
       "    <tr>\n",
       "      <th>Statistical_methods</th>\n",
       "      <td>433</td>\n",
       "      <td>0</td>\n",
       "      <td>433</td>\n",
       "      <td>433</td>\n",
       "      <td>433</td>\n",
       "    </tr>\n",
       "    <tr>\n",
       "      <th>Taiwan</th>\n",
       "      <td>588</td>\n",
       "      <td>0</td>\n",
       "      <td>588</td>\n",
       "      <td>588</td>\n",
       "      <td>588</td>\n",
       "    </tr>\n",
       "    <tr>\n",
       "      <th>Yoga</th>\n",
       "      <td>497</td>\n",
       "      <td>97</td>\n",
       "      <td>497</td>\n",
       "      <td>497</td>\n",
       "      <td>497</td>\n",
       "    </tr>\n",
       "    <tr>\n",
       "      <th>machine learning</th>\n",
       "      <td>1081</td>\n",
       "      <td>1081</td>\n",
       "      <td>1081</td>\n",
       "      <td>1081</td>\n",
       "      <td>1081</td>\n",
       "    </tr>\n",
       "  </tbody>\n",
       "</table>\n",
       "</div>"
      ],
      "text/plain": [
       "                                 _id  clean_content  content  pageid  title\n",
       "category                                                                   \n",
       "Business intelligence           1174           1174     1174    1174   1174\n",
       "Geographic information systems   520            520      520     520    520\n",
       "Microsoft Office                 186            186      186     186    186\n",
       "Petroleum                       1418           1418     1418    1418   1418\n",
       "Statistical_methods              433              0      433     433    433\n",
       "Taiwan                           588              0      588     588    588\n",
       "Yoga                             497             97      497     497    497\n",
       "machine learning                1081           1081     1081    1081   1081"
      ]
     },
     "execution_count": 60,
     "metadata": {},
     "output_type": "execute_result"
    }
   ],
   "source": [
    "wiki_df = pd.DataFrame(list(cli.wiki_mongo_database.wiki_mongo_collection.find({})))\n",
    "wiki_df.groupby(wiki_df['category']).count()"
   ]
  },
  {
   "cell_type": "code",
   "execution_count": 31,
   "metadata": {},
   "outputs": [
    {
     "name": "stderr",
     "output_type": "stream",
     "text": [
      "/opt/conda/lib/python3.5/site-packages/ipykernel_launcher.py:1: DeprecationWarning: remove is deprecated. Use delete_one or delete_many instead.\n",
      "  \"\"\"Entry point for launching an IPython kernel.\n"
     ]
    },
    {
     "data": {
      "text/plain": [
       "{'n': 1, 'ok': 1.0}"
      ]
     },
     "execution_count": 31,
     "metadata": {},
     "output_type": "execute_result"
    }
   ],
   "source": []
  },
  {
   "cell_type": "code",
   "execution_count": 59,
   "metadata": {
    "scrolled": true
   },
   "outputs": [
    {
     "data": {
      "text/plain": [
       "<pymongo.results.UpdateResult at 0x7f27eda487e0>"
      ]
     },
     "execution_count": 59,
     "metadata": {},
     "output_type": "execute_result"
    }
   ],
   "source": [
    "wiki_mongo_collection.update_many({\"category\":'Yogis'}, {'$set': {\"category\":'Yoga'}})"
   ]
  },
  {
   "cell_type": "code",
   "execution_count": null,
   "metadata": {
    "collapsed": true
   },
   "outputs": [],
   "source": [
    "# wiki_mongo_collection.remove({\"category\":'Petroleum'})\n",
    "# wiki_mongo_collection.drop()"
   ]
  }
 ],
 "metadata": {
  "kernelspec": {
   "display_name": "Python 3",
   "language": "python",
   "name": "python3"
  },
  "language_info": {
   "codemirror_mode": {
    "name": "ipython",
    "version": 3
   },
   "file_extension": ".py",
   "mimetype": "text/x-python",
   "name": "python",
   "nbconvert_exporter": "python",
   "pygments_lexer": "ipython3",
   "version": "3.5.2"
  }
 },
 "nbformat": 4,
 "nbformat_minor": 2
}
