{
 "cells": [
  {
   "cell_type": "code",
   "execution_count": 1,
   "metadata": {},
   "outputs": [
    {
     "name": "stdout",
     "output_type": "stream",
     "text": [
      "Requirement already satisfied (use --upgrade to upgrade): redis in /opt/conda/lib/python3.5/site-packages\r\n",
      "\u001b[33mYou are using pip version 8.1.2, however version 9.0.1 is available.\r\n",
      "You should consider upgrading via the 'pip install --upgrade pip' command.\u001b[0m\r\n"
     ]
    }
   ],
   "source": [
    "import pickle\n",
    "!pip install redis\n",
    "import redis\n",
    "redis_ip = '34.212.59.71'"
   ]
  },
  {
   "cell_type": "code",
   "execution_count": 2,
   "metadata": {
    "collapsed": true
   },
   "outputs": [],
   "source": [
    "r = redis.StrictRedis(redis_ip)\n",
    "LSA = pickle.loads(r.get('tbl_LSA'))\n",
    "vocabulary_expression = pickle.loads(r.get('tbl_vocabulary_expression'))"
   ]
  },
  {
   "cell_type": "code",
   "execution_count": 3,
   "metadata": {
    "collapsed": true
   },
   "outputs": [],
   "source": [
    "import numpy as np\n",
    "import pandas as pd\n",
    "import seaborn as sns\n",
    "import scipy.sparse as sparse\n",
    "from scipy.spatial.distance import cosine\n",
    "from spacy.en import English\n",
    "from sklearn.neighbors import NearestNeighbors\n",
    "from sklearn.decomposition import TruncatedSVD\n",
    "from sklearn.feature_extraction.text import TfidfVectorizer, CountVectorizer\n",
    "from sklearn.model_selection import GridSearchCV\n",
    "from sklearn.neighbors import KNeighborsClassifier\n",
    "from sklearn.preprocessing import LabelEncoder, OneHotEncoder\n",
    "from sklearn.tree import DecisionTreeClassifier\n",
    "import matplotlib.pyplot as plt\n",
    "\n",
    "%matplotlib inline"
   ]
  },
  {
   "cell_type": "code",
   "execution_count": 4,
   "metadata": {},
   "outputs": [
    {
     "data": {
      "text/html": [
       "<div>\n",
       "<table border=\"1\" class=\"dataframe\">\n",
       "  <thead>\n",
       "    <tr style=\"text-align: right;\">\n",
       "      <th></th>\n",
       "      <th>component_1</th>\n",
       "      <th>component_2</th>\n",
       "      <th>component_3</th>\n",
       "      <th>component_4</th>\n",
       "      <th>component_5</th>\n",
       "      <th>component_6</th>\n",
       "      <th>component_7</th>\n",
       "      <th>component_8</th>\n",
       "      <th>component_9</th>\n",
       "      <th>component_10</th>\n",
       "      <th>...</th>\n",
       "      <th>component_794</th>\n",
       "      <th>component_795</th>\n",
       "      <th>component_796</th>\n",
       "      <th>component_797</th>\n",
       "      <th>component_798</th>\n",
       "      <th>component_799</th>\n",
       "      <th>component_800</th>\n",
       "      <th>title</th>\n",
       "      <th>category</th>\n",
       "      <th>content</th>\n",
       "    </tr>\n",
       "  </thead>\n",
       "  <tbody>\n",
       "    <tr>\n",
       "      <th>0</th>\n",
       "      <td>0.089703</td>\n",
       "      <td>-0.062023</td>\n",
       "      <td>0.025137</td>\n",
       "      <td>0.037325</td>\n",
       "      <td>-0.013474</td>\n",
       "      <td>0.025683</td>\n",
       "      <td>-0.007717</td>\n",
       "      <td>0.017116</td>\n",
       "      <td>-0.005195</td>\n",
       "      <td>-0.015903</td>\n",
       "      <td>...</td>\n",
       "      <td>0.004071</td>\n",
       "      <td>-0.023051</td>\n",
       "      <td>-0.006449</td>\n",
       "      <td>0.003322</td>\n",
       "      <td>0.010939</td>\n",
       "      <td>0.003897</td>\n",
       "      <td>-0.011495</td>\n",
       "      <td>(1+ε)-approximate nearest neighbor search</td>\n",
       "      <td>machine learning</td>\n",
       "      <td>approximate near neighbor search special case ...</td>\n",
       "    </tr>\n",
       "    <tr>\n",
       "      <th>1</th>\n",
       "      <td>0.180721</td>\n",
       "      <td>-0.183607</td>\n",
       "      <td>0.046931</td>\n",
       "      <td>0.148432</td>\n",
       "      <td>-0.034707</td>\n",
       "      <td>0.116325</td>\n",
       "      <td>0.029397</td>\n",
       "      <td>-0.003574</td>\n",
       "      <td>-0.066231</td>\n",
       "      <td>0.285732</td>\n",
       "      <td>...</td>\n",
       "      <td>-0.002134</td>\n",
       "      <td>0.026923</td>\n",
       "      <td>0.004420</td>\n",
       "      <td>0.002639</td>\n",
       "      <td>0.007617</td>\n",
       "      <td>0.005754</td>\n",
       "      <td>0.007940</td>\n",
       "      <td>ADALINE</td>\n",
       "      <td>machine learning</td>\n",
       "      <td>adaline adaptive linear neuron later adaptive ...</td>\n",
       "    </tr>\n",
       "  </tbody>\n",
       "</table>\n",
       "<p>2 rows × 803 columns</p>\n",
       "</div>"
      ],
      "text/plain": [
       "   component_1  component_2  component_3  component_4  component_5  \\\n",
       "0     0.089703    -0.062023     0.025137     0.037325    -0.013474   \n",
       "1     0.180721    -0.183607     0.046931     0.148432    -0.034707   \n",
       "\n",
       "   component_6  component_7  component_8  component_9  component_10  \\\n",
       "0     0.025683    -0.007717     0.017116    -0.005195     -0.015903   \n",
       "1     0.116325     0.029397    -0.003574    -0.066231      0.285732   \n",
       "\n",
       "                         ...                          component_794  \\\n",
       "0                        ...                               0.004071   \n",
       "1                        ...                              -0.002134   \n",
       "\n",
       "   component_795  component_796  component_797  component_798  component_799  \\\n",
       "0      -0.023051      -0.006449       0.003322       0.010939       0.003897   \n",
       "1       0.026923       0.004420       0.002639       0.007617       0.005754   \n",
       "\n",
       "   component_800                                      title          category  \\\n",
       "0      -0.011495  (1+ε)-approximate nearest neighbor search  machine learning   \n",
       "1       0.007940                                    ADALINE  machine learning   \n",
       "\n",
       "                                             content  \n",
       "0  approximate near neighbor search special case ...  \n",
       "1  adaline adaptive linear neuron later adaptive ...  \n",
       "\n",
       "[2 rows x 803 columns]"
      ]
     },
     "execution_count": 4,
     "metadata": {},
     "output_type": "execute_result"
    }
   ],
   "source": [
    "LSA.head(2)"
   ]
  },
  {
   "cell_type": "code",
   "execution_count": 5,
   "metadata": {
    "collapsed": true
   },
   "outputs": [],
   "source": [
    "#  x train\n",
    "LSA_components = LSA.drop(['category','title','content'], axis = 1)"
   ]
  },
  {
   "cell_type": "code",
   "execution_count": 6,
   "metadata": {
    "collapsed": true
   },
   "outputs": [],
   "source": [
    "# y train\n",
    "cat = LSA['category']\n",
    "cat_dummies = pd.get_dummies(cat)"
   ]
  },
  {
   "cell_type": "code",
   "execution_count": 7,
   "metadata": {
    "collapsed": true
   },
   "outputs": [],
   "source": [
    "dtc = DecisionTreeClassifier()\n",
    "knc = KNeighborsClassifier()"
   ]
  },
  {
   "cell_type": "code",
   "execution_count": null,
   "metadata": {
    "collapsed": true
   },
   "outputs": [],
   "source": [
    "param_dtc = {\n",
    "    'max_depth':[3,6,9,12],\n",
    "    'min_samples_leaf': [2,5,10,15]   \n",
    "}\n",
    "\n",
    "param_knc = {\n",
    "     'n_neighbors': [5,10,15], \n",
    "     'leaf_size': [20,30]\n",
    "}"
   ]
  },
  {
   "cell_type": "code",
   "execution_count": null,
   "metadata": {
    "collapsed": true
   },
   "outputs": [],
   "source": [
    "gs_dtc = GridSearchCV(dtc, param_grid=param_dtc,cv=5,n_jobs = -1)\n",
    "gs_dtc.fit(LSA_components, cat_dummies)"
   ]
  },
  {
   "cell_type": "code",
   "execution_count": null,
   "metadata": {
    "collapsed": true
   },
   "outputs": [],
   "source": [
    "gs_dtc_res_df = pd.DataFrame(gs_dtc.cv_results_)\n",
    "gs_dtc_res_df.sort('rank_test_score',ascending=True).head(5).T[2:6]"
   ]
  },
  {
   "cell_type": "code",
   "execution_count": null,
   "metadata": {
    "collapsed": true
   },
   "outputs": [],
   "source": [
    "gs_knc = GridSearchCV(knc, param_grid=param_knc,cv=5,n_jobs = -1)\n",
    "gs_knc.fit(LSA_components, cat_dummies)"
   ]
  },
  {
   "cell_type": "code",
   "execution_count": null,
   "metadata": {
    "collapsed": true
   },
   "outputs": [],
   "source": [
    "gs_knc_res_df = pd.DataFrame(gs_knc.cv_results_)\n",
    "gs_knc_res_df.sort('rank_test_score',ascending=True).head(5).T[2:6]"
   ]
  },
  {
   "cell_type": "code",
   "execution_count": null,
   "metadata": {
    "collapsed": true
   },
   "outputs": [],
   "source": []
  },
  {
   "cell_type": "code",
   "execution_count": null,
   "metadata": {
    "collapsed": true
   },
   "outputs": [],
   "source": []
  }
 ],
 "metadata": {
  "kernelspec": {
   "display_name": "Python 3",
   "language": "python",
   "name": "python3"
  },
  "language_info": {
   "codemirror_mode": {
    "name": "ipython",
    "version": 3
   },
   "file_extension": ".py",
   "mimetype": "text/x-python",
   "name": "python",
   "nbconvert_exporter": "python",
   "pygments_lexer": "ipython3",
   "version": "3.5.2"
  }
 },
 "nbformat": 4,
 "nbformat_minor": 2
}
