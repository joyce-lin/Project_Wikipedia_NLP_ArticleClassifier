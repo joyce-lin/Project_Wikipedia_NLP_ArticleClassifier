{
 "cells": [
  {
   "cell_type": "code",
   "execution_count": 1,
   "metadata": {},
   "outputs": [
    {
     "name": "stdout",
     "output_type": "stream",
     "text": [
      "Collecting pymongo\n",
      "  Downloading pymongo-3.4.0-cp35-cp35m-manylinux1_x86_64.whl (359kB)\n",
      "\u001b[K    100% |████████████████████████████████| 368kB 2.6MB/s ta 0:00:01\n",
      "\u001b[?25hInstalling collected packages: pymongo\n",
      "Successfully installed pymongo-3.4.0\n",
      "\u001b[33mYou are using pip version 8.1.2, however version 9.0.1 is available.\n",
      "You should consider upgrading via the 'pip install --upgrade pip' command.\u001b[0m\n"
     ]
    }
   ],
   "source": [
    "!pip install pymongo\n",
    "import pymongo\n",
    "cli = pymongo.MongoClient(host='34.210.97.79')"
   ]
  },
  {
   "cell_type": "code",
   "execution_count": 2,
   "metadata": {
    "collapsed": true
   },
   "outputs": [],
   "source": [
    "import numpy as np\n",
    "import pandas as pd\n",
    "import seaborn as sns\n",
    "from sklearn.decomposition import TruncatedSVD\n",
    "from sklearn.feature_extraction.text import TfidfVectorizer, CountVectorizer\n",
    "from sklearn.preprocessing import StandardScaler\n",
    "from sklearn.preprocessing import LabelEncoder\n",
    "import matplotlib.pyplot as plt\n",
    "\n",
    "%matplotlib inline"
   ]
  },
  {
   "cell_type": "code",
   "execution_count": 3,
   "metadata": {},
   "outputs": [
    {
     "data": {
      "text/plain": [
       "['admin', 'local', 'wiki_mongo_database', 'wiki_mongo_db']"
      ]
     },
     "execution_count": 3,
     "metadata": {},
     "output_type": "execute_result"
    }
   ],
   "source": [
    "cli.database_names()"
   ]
  },
  {
   "cell_type": "code",
   "execution_count": 4,
   "metadata": {
    "scrolled": true
   },
   "outputs": [
    {
     "data": {
      "text/html": [
       "<div>\n",
       "<table border=\"1\" class=\"dataframe\">\n",
       "  <thead>\n",
       "    <tr style=\"text-align: right;\">\n",
       "      <th></th>\n",
       "      <th>title</th>\n",
       "      <th>category</th>\n",
       "      <th>content</th>\n",
       "      <th>clean_content</th>\n",
       "    </tr>\n",
       "  </thead>\n",
       "  <tbody>\n",
       "    <tr>\n",
       "      <th>0</th>\n",
       "      <td>(1+ε)-approximate nearest neighbor search</td>\n",
       "      <td>machine learning</td>\n",
       "      <td>(1+ε)-approximate nearest neighbor search is a...</td>\n",
       "      <td>approximate near neighbor search special case ...</td>\n",
       "    </tr>\n",
       "    <tr>\n",
       "      <th>1</th>\n",
       "      <td>ADALINE</td>\n",
       "      <td>machine learning</td>\n",
       "      <td>ADALINE (Adaptive Linear Neuron or later Adapt...</td>\n",
       "      <td>adaline adaptive linear neuron later adaptive ...</td>\n",
       "    </tr>\n",
       "  </tbody>\n",
       "</table>\n",
       "</div>"
      ],
      "text/plain": [
       "                                       title          category  \\\n",
       "0  (1+ε)-approximate nearest neighbor search  machine learning   \n",
       "1                                    ADALINE  machine learning   \n",
       "\n",
       "                                             content  \\\n",
       "0  (1+ε)-approximate nearest neighbor search is a...   \n",
       "1  ADALINE (Adaptive Linear Neuron or later Adapt...   \n",
       "\n",
       "                                       clean_content  \n",
       "0  approximate near neighbor search special case ...  \n",
       "1  adaline adaptive linear neuron later adaptive ...  "
      ]
     },
     "execution_count": 4,
     "metadata": {},
     "output_type": "execute_result"
    }
   ],
   "source": [
    "wiki_df = pd.DataFrame(list(cli.wiki_mongo_database.wiki_mongo_collection.find({})))\n",
    "wiki_df[['title','category','content','clean_content']].head(2)"
   ]
  },
  {
   "cell_type": "code",
   "execution_count": 5,
   "metadata": {},
   "outputs": [
    {
     "data": {
      "text/html": [
       "<div>\n",
       "<table border=\"1\" class=\"dataframe\">\n",
       "  <thead>\n",
       "    <tr style=\"text-align: right;\">\n",
       "      <th></th>\n",
       "      <th>title</th>\n",
       "      <th>category</th>\n",
       "      <th>content</th>\n",
       "      <th>clean_content</th>\n",
       "    </tr>\n",
       "  </thead>\n",
       "  <tbody>\n",
       "    <tr>\n",
       "      <th>0</th>\n",
       "      <td>(1+ε)-approximate nearest neighbor search</td>\n",
       "      <td>machine learning</td>\n",
       "      <td>(1+ε)-approximate nearest neighbor search is a...</td>\n",
       "      <td>approximate near neighbor search special case ...</td>\n",
       "    </tr>\n",
       "  </tbody>\n",
       "</table>\n",
       "</div>"
      ],
      "text/plain": [
       "                                       title          category  \\\n",
       "0  (1+ε)-approximate nearest neighbor search  machine learning   \n",
       "\n",
       "                                             content  \\\n",
       "0  (1+ε)-approximate nearest neighbor search is a...   \n",
       "\n",
       "                                       clean_content  \n",
       "0  approximate near neighbor search special case ...  "
      ]
     },
     "execution_count": 5,
     "metadata": {},
     "output_type": "execute_result"
    }
   ],
   "source": [
    "wiki_df[['title','category','content','clean_content']].head(1)"
   ]
  },
  {
   "cell_type": "code",
   "execution_count": 28,
   "metadata": {
    "scrolled": true
   },
   "outputs": [
    {
     "name": "stderr",
     "output_type": "stream",
     "text": [
      "/opt/conda/lib/python3.5/site-packages/ipykernel_launcher.py:3: FutureWarning: sort(columns=....) is deprecated, use sort_values(by=.....)\n",
      "  This is separate from the ipykernel package so we can avoid doing imports until\n"
     ]
    },
    {
     "data": {
      "text/html": [
       "<div>\n",
       "<table border=\"1\" class=\"dataframe\">\n",
       "  <thead>\n",
       "    <tr style=\"text-align: right;\">\n",
       "      <th></th>\n",
       "      <th>_id</th>\n",
       "      <th>category</th>\n",
       "      <th>clean_content</th>\n",
       "      <th>content</th>\n",
       "      <th>pageid</th>\n",
       "      <th>title</th>\n",
       "      <th>category_numerical</th>\n",
       "    </tr>\n",
       "  </thead>\n",
       "  <tbody>\n",
       "    <tr>\n",
       "      <th>1595</th>\n",
       "      <td>591c794bad28cdd96d817db8</td>\n",
       "      <td>Geographic information systems</td>\n",
       "      <td></td>\n",
       "      <td></td>\n",
       "      <td>47106758</td>\n",
       "      <td>Template:OpenStreetMap maps</td>\n",
       "      <td>1</td>\n",
       "    </tr>\n",
       "    <tr>\n",
       "      <th>3182</th>\n",
       "      <td>591c9c64ad28cdd96d819554</td>\n",
       "      <td>Business intelligence</td>\n",
       "      <td>ab initio software american multinational ente...</td>\n",
       "      <td>Ab Initio Software is an American multinationa...</td>\n",
       "      <td>1416977</td>\n",
       "      <td>Ab Initio Software</td>\n",
       "      <td>0</td>\n",
       "    </tr>\n",
       "    <tr>\n",
       "      <th>3183</th>\n",
       "      <td>591c9c66ad28cdd96d819557</td>\n",
       "      <td>Business intelligence</td>\n",
       "      <td>abacus datum canadian polling market research ...</td>\n",
       "      <td>Abacus Data is a Canadian polling and market r...</td>\n",
       "      <td>35005889</td>\n",
       "      <td>Abacus Data</td>\n",
       "      <td>0</td>\n",
       "    </tr>\n",
       "  </tbody>\n",
       "</table>\n",
       "</div>"
      ],
      "text/plain": [
       "                           _id                        category  \\\n",
       "1595  591c794bad28cdd96d817db8  Geographic information systems   \n",
       "3182  591c9c64ad28cdd96d819554           Business intelligence   \n",
       "3183  591c9c66ad28cdd96d819557           Business intelligence   \n",
       "\n",
       "                                          clean_content  \\\n",
       "1595                                                      \n",
       "3182  ab initio software american multinational ente...   \n",
       "3183  abacus datum canadian polling market research ...   \n",
       "\n",
       "                                                content    pageid  \\\n",
       "1595                                                     47106758   \n",
       "3182  Ab Initio Software is an American multinationa...   1416977   \n",
       "3183  Abacus Data is a Canadian polling and market r...  35005889   \n",
       "\n",
       "                            title  category_numerical  \n",
       "1595  Template:OpenStreetMap maps                   1  \n",
       "3182           Ab Initio Software                   0  \n",
       "3183                  Abacus Data                   0  "
      ]
     },
     "execution_count": 28,
     "metadata": {},
     "output_type": "execute_result"
    }
   ],
   "source": [
    "le = LabelEncoder()\n",
    "wiki_df['category_numerical'] = le.fit_transform(wiki_df['category'])\n",
    "wiki_df.sort('clean_content').head(3)"
   ]
  },
  {
   "cell_type": "code",
   "execution_count": 29,
   "metadata": {
    "collapsed": true
   },
   "outputs": [],
   "source": [
    "tfidf_vectorizer = TfidfVectorizer(min_df = 3, stop_words = 'english')"
   ]
  },
  {
   "cell_type": "code",
   "execution_count": 30,
   "metadata": {
    "scrolled": true
   },
   "outputs": [],
   "source": [
    "wiki_tfidf = tfidf_vectorizer.\\\n",
    "    fit_transform(wiki_df['clean_content'].values.astype('U'))\n"
   ]
  },
  {
   "cell_type": "code",
   "execution_count": 31,
   "metadata": {
    "collapsed": true
   },
   "outputs": [],
   "source": [
    "wiki_tfidf_df = pd.DataFrame(wiki_tfidf.toarray(),\n",
    "            index = wiki_df.index,\n",
    "            columns = tfidf_vectorizer.get_feature_names())"
   ]
  },
  {
   "cell_type": "code",
   "execution_count": 32,
   "metadata": {},
   "outputs": [
    {
     "data": {
      "text/plain": [
       "30197"
      ]
     },
     "execution_count": 32,
     "metadata": {},
     "output_type": "execute_result"
    }
   ],
   "source": [
    "len(wiki_tfidf_df.columns)"
   ]
  },
  {
   "cell_type": "code",
   "execution_count": 33,
   "metadata": {
    "scrolled": true
   },
   "outputs": [
    {
     "data": {
      "text/html": [
       "<div>\n",
       "<table border=\"1\" class=\"dataframe\">\n",
       "  <thead>\n",
       "    <tr style=\"text-align: right;\">\n",
       "      <th></th>\n",
       "      <th>aa</th>\n",
       "      <th>aai</th>\n",
       "      <th>aas</th>\n",
       "      <th>ab</th>\n",
       "      <th>aba</th>\n",
       "      <th>abacus</th>\n",
       "      <th>abadan</th>\n",
       "      <th>abandon</th>\n",
       "      <th>abandonment</th>\n",
       "      <th>abba</th>\n",
       "      <th>...</th>\n",
       "      <th>zuben</th>\n",
       "      <th>zuckerberg</th>\n",
       "      <th>zukerman</th>\n",
       "      <th>zum</th>\n",
       "      <th>zuo</th>\n",
       "      <th>zur</th>\n",
       "      <th>zurada</th>\n",
       "      <th>zurich</th>\n",
       "      <th>zvi</th>\n",
       "      <th>zweig</th>\n",
       "    </tr>\n",
       "  </thead>\n",
       "  <tbody>\n",
       "    <tr>\n",
       "      <th>0</th>\n",
       "      <td>0.0</td>\n",
       "      <td>0.0</td>\n",
       "      <td>0.0</td>\n",
       "      <td>0.0</td>\n",
       "      <td>0.0</td>\n",
       "      <td>0.0</td>\n",
       "      <td>0.0</td>\n",
       "      <td>0.0</td>\n",
       "      <td>0.0</td>\n",
       "      <td>0.0</td>\n",
       "      <td>...</td>\n",
       "      <td>0.0</td>\n",
       "      <td>0.0</td>\n",
       "      <td>0.0</td>\n",
       "      <td>0.0</td>\n",
       "      <td>0.0</td>\n",
       "      <td>0.0</td>\n",
       "      <td>0.0</td>\n",
       "      <td>0.0</td>\n",
       "      <td>0.0</td>\n",
       "      <td>0.0</td>\n",
       "    </tr>\n",
       "    <tr>\n",
       "      <th>1</th>\n",
       "      <td>0.0</td>\n",
       "      <td>0.0</td>\n",
       "      <td>0.0</td>\n",
       "      <td>0.0</td>\n",
       "      <td>0.0</td>\n",
       "      <td>0.0</td>\n",
       "      <td>0.0</td>\n",
       "      <td>0.0</td>\n",
       "      <td>0.0</td>\n",
       "      <td>0.0</td>\n",
       "      <td>...</td>\n",
       "      <td>0.0</td>\n",
       "      <td>0.0</td>\n",
       "      <td>0.0</td>\n",
       "      <td>0.0</td>\n",
       "      <td>0.0</td>\n",
       "      <td>0.0</td>\n",
       "      <td>0.0</td>\n",
       "      <td>0.0</td>\n",
       "      <td>0.0</td>\n",
       "      <td>0.0</td>\n",
       "    </tr>\n",
       "    <tr>\n",
       "      <th>2</th>\n",
       "      <td>0.0</td>\n",
       "      <td>0.0</td>\n",
       "      <td>0.0</td>\n",
       "      <td>0.0</td>\n",
       "      <td>0.0</td>\n",
       "      <td>0.0</td>\n",
       "      <td>0.0</td>\n",
       "      <td>0.0</td>\n",
       "      <td>0.0</td>\n",
       "      <td>0.0</td>\n",
       "      <td>...</td>\n",
       "      <td>0.0</td>\n",
       "      <td>0.0</td>\n",
       "      <td>0.0</td>\n",
       "      <td>0.0</td>\n",
       "      <td>0.0</td>\n",
       "      <td>0.0</td>\n",
       "      <td>0.0</td>\n",
       "      <td>0.0</td>\n",
       "      <td>0.0</td>\n",
       "      <td>0.0</td>\n",
       "    </tr>\n",
       "  </tbody>\n",
       "</table>\n",
       "<p>3 rows × 30197 columns</p>\n",
       "</div>"
      ],
      "text/plain": [
       "    aa  aai  aas   ab  aba  abacus  abadan  abandon  abandonment  abba  ...    \\\n",
       "0  0.0  0.0  0.0  0.0  0.0     0.0     0.0      0.0          0.0   0.0  ...     \n",
       "1  0.0  0.0  0.0  0.0  0.0     0.0     0.0      0.0          0.0   0.0  ...     \n",
       "2  0.0  0.0  0.0  0.0  0.0     0.0     0.0      0.0          0.0   0.0  ...     \n",
       "\n",
       "   zuben  zuckerberg  zukerman  zum  zuo  zur  zurada  zurich  zvi  zweig  \n",
       "0    0.0         0.0       0.0  0.0  0.0  0.0     0.0     0.0  0.0    0.0  \n",
       "1    0.0         0.0       0.0  0.0  0.0  0.0     0.0     0.0  0.0    0.0  \n",
       "2    0.0         0.0       0.0  0.0  0.0  0.0     0.0     0.0  0.0    0.0  \n",
       "\n",
       "[3 rows x 30197 columns]"
      ]
     },
     "execution_count": 33,
     "metadata": {},
     "output_type": "execute_result"
    }
   ],
   "source": [
    "wiki_tfidf_df.head(3)"
   ]
  },
  {
   "cell_type": "code",
   "execution_count": 34,
   "metadata": {},
   "outputs": [
    {
     "name": "stdout",
     "output_type": "stream",
     "text": [
      "Requirement already satisfied (use --upgrade to upgrade): redis in /opt/conda/lib/python3.5/site-packages\n",
      "\u001b[33mYou are using pip version 8.1.2, however version 9.0.1 is available.\n",
      "You should consider upgrading via the 'pip install --upgrade pip' command.\u001b[0m\n"
     ]
    },
    {
     "data": {
      "text/plain": [
       "True"
      ]
     },
     "execution_count": 34,
     "metadata": {},
     "output_type": "execute_result"
    }
   ],
   "source": [
    "import pickle\n",
    "!pip install redis\n",
    "import redis\n",
    "redis_ip = '34.210.97.79'\n",
    "r = redis.StrictRedis(redis_ip)\n",
    "r.flushall()"
   ]
  },
  {
   "cell_type": "raw",
   "metadata": {},
   "source": [
    "from signal import signal, SIGPIPE, SIG_DFL\n",
    "signal(SIGPIPE,SIG_DFL) "
   ]
  },
  {
   "cell_type": "raw",
   "metadata": {},
   "source": [
    "r = redis.StrictRedis(redis_ip)\n",
    "tfidf = pickle.dumps(wiki_tfidf_df)\n",
    "r.set('wiki_tfidf', tfidf)\n",
    "r.keys()"
   ]
  },
  {
   "cell_type": "raw",
   "metadata": {},
   "source": [
    "wiki_tfidf_df = pickle.loads(r.get('wiki_tfidf_df'))"
   ]
  },
  {
   "cell_type": "code",
   "execution_count": 35,
   "metadata": {
    "collapsed": true
   },
   "outputs": [],
   "source": [
    "# r.flushall()"
   ]
  },
  {
   "cell_type": "markdown",
   "metadata": {},
   "source": [
    "### SVD (Latent Semantic Analysis)"
   ]
  },
  {
   "cell_type": "code",
   "execution_count": 36,
   "metadata": {
    "collapsed": true
   },
   "outputs": [],
   "source": [
    "def perform_LSA(n_components, vectorizer, df):\n",
    "    SVD = TruncatedSVD(n_components)\n",
    "    component_names = [\"component_\"+str(i+1) for i in range(n_components)]\n",
    "    latent_semantic_analysis = pd.DataFrame(SVD.fit_transform(df),\n",
    "                                            index = df.index,\n",
    "                                            columns = component_names)\n",
    "    vocabulary_expression = pd.DataFrame(SVD.components_,\n",
    "                                         index = component_names,\n",
    "                                         columns = vectorizer.get_feature_names())\n",
    "    return latent_semantic_analysis, vocabulary_expression"
   ]
  },
  {
   "cell_type": "code",
   "execution_count": 37,
   "metadata": {
    "collapsed": true
   },
   "outputs": [],
   "source": [
    "latent_semantic_analysis, \\\n",
    "vocabulary_expression \\\n",
    "        = perform_LSA(800, tfidf_vectorizer,wiki_tfidf_df)\n"
   ]
  },
  {
   "cell_type": "code",
   "execution_count": 38,
   "metadata": {},
   "outputs": [
    {
     "data": {
      "text/html": [
       "<div>\n",
       "<table border=\"1\" class=\"dataframe\">\n",
       "  <thead>\n",
       "    <tr style=\"text-align: right;\">\n",
       "      <th></th>\n",
       "      <th>category</th>\n",
       "      <th>title</th>\n",
       "      <th>component_1</th>\n",
       "      <th>component_2</th>\n",
       "    </tr>\n",
       "  </thead>\n",
       "  <tbody>\n",
       "    <tr>\n",
       "      <th>3940</th>\n",
       "      <td>Business intelligence</td>\n",
       "      <td>People's Linguistic Survey of India</td>\n",
       "      <td>0.149729</td>\n",
       "      <td>0.000849</td>\n",
       "    </tr>\n",
       "    <tr>\n",
       "      <th>2759</th>\n",
       "      <td>Petroleum</td>\n",
       "      <td>Ruby Doris Smith-Robinson</td>\n",
       "      <td>0.127488</td>\n",
       "      <td>0.080197</td>\n",
       "    </tr>\n",
       "    <tr>\n",
       "      <th>2067</th>\n",
       "      <td>Petroleum</td>\n",
       "      <td>Emma Matilda Lake</td>\n",
       "      <td>0.069582</td>\n",
       "      <td>0.142275</td>\n",
       "    </tr>\n",
       "    <tr>\n",
       "      <th>1322</th>\n",
       "      <td>Geographic information systems</td>\n",
       "      <td>GIS Day</td>\n",
       "      <td>0.125328</td>\n",
       "      <td>0.033988</td>\n",
       "    </tr>\n",
       "    <tr>\n",
       "      <th>2071</th>\n",
       "      <td>Petroleum</td>\n",
       "      <td>Enterprise GP Holdings</td>\n",
       "      <td>0.080872</td>\n",
       "      <td>0.043438</td>\n",
       "    </tr>\n",
       "    <tr>\n",
       "      <th>468</th>\n",
       "      <td>machine learning</td>\n",
       "      <td>Information gain ratio</td>\n",
       "      <td>0.158081</td>\n",
       "      <td>-0.116534</td>\n",
       "    </tr>\n",
       "    <tr>\n",
       "      <th>4966</th>\n",
       "      <td>Taiwan</td>\n",
       "      <td>Emperor Meiji</td>\n",
       "      <td>0.140844</td>\n",
       "      <td>0.151335</td>\n",
       "    </tr>\n",
       "    <tr>\n",
       "      <th>1740</th>\n",
       "      <td>Petroleum</td>\n",
       "      <td>Acadia National Park</td>\n",
       "      <td>0.136941</td>\n",
       "      <td>0.132519</td>\n",
       "    </tr>\n",
       "    <tr>\n",
       "      <th>1491</th>\n",
       "      <td>Geographic information systems</td>\n",
       "      <td>National Land and Property Gazetteer</td>\n",
       "      <td>0.117663</td>\n",
       "      <td>0.013945</td>\n",
       "    </tr>\n",
       "    <tr>\n",
       "      <th>2790</th>\n",
       "      <td>Petroleum</td>\n",
       "      <td>Shell Development Emeryville</td>\n",
       "      <td>0.135463</td>\n",
       "      <td>0.071432</td>\n",
       "    </tr>\n",
       "  </tbody>\n",
       "</table>\n",
       "</div>"
      ],
      "text/plain": [
       "                            category                                 title  \\\n",
       "3940           Business intelligence   People's Linguistic Survey of India   \n",
       "2759                       Petroleum             Ruby Doris Smith-Robinson   \n",
       "2067                       Petroleum                     Emma Matilda Lake   \n",
       "1322  Geographic information systems                               GIS Day   \n",
       "2071                       Petroleum                Enterprise GP Holdings   \n",
       "468                 machine learning                Information gain ratio   \n",
       "4966                          Taiwan                         Emperor Meiji   \n",
       "1740                       Petroleum                  Acadia National Park   \n",
       "1491  Geographic information systems  National Land and Property Gazetteer   \n",
       "2790                       Petroleum          Shell Development Emeryville   \n",
       "\n",
       "      component_1  component_2  \n",
       "3940     0.149729     0.000849  \n",
       "2759     0.127488     0.080197  \n",
       "2067     0.069582     0.142275  \n",
       "1322     0.125328     0.033988  \n",
       "2071     0.080872     0.043438  \n",
       "468      0.158081    -0.116534  \n",
       "4966     0.140844     0.151335  \n",
       "1740     0.136941     0.132519  \n",
       "1491     0.117663     0.013945  \n",
       "2790     0.135463     0.071432  "
      ]
     },
     "execution_count": 38,
     "metadata": {},
     "output_type": "execute_result"
    }
   ],
   "source": [
    "latent_semantic_analysis['title']= wiki_df['title']\n",
    "latent_semantic_analysis['category']= wiki_df['category']\n",
    "latent_semantic_analysis['content']= wiki_df['clean_content']\n",
    "\n",
    "latent_semantic_analysis[['category','title','component_1','component_2']].sample(10)"
   ]
  },
  {
   "cell_type": "code",
   "execution_count": 39,
   "metadata": {},
   "outputs": [
    {
     "data": {
      "text/plain": [
       "[b'tbl_LSA']"
      ]
     },
     "execution_count": 39,
     "metadata": {},
     "output_type": "execute_result"
    }
   ],
   "source": [
    "r = redis.StrictRedis(redis_ip)\n",
    "LSA = pickle.dumps(latent_semantic_analysis)\n",
    "r.set('tbl_LSA', LSA)\n",
    "r.keys()"
   ]
  },
  {
   "cell_type": "code",
   "execution_count": 40,
   "metadata": {
    "scrolled": true
   },
   "outputs": [
    {
     "data": {
      "text/html": [
       "<div>\n",
       "<table border=\"1\" class=\"dataframe\">\n",
       "  <thead>\n",
       "    <tr style=\"text-align: right;\">\n",
       "      <th></th>\n",
       "      <th>component_1</th>\n",
       "      <th>component_2</th>\n",
       "      <th>component_3</th>\n",
       "      <th>component_4</th>\n",
       "      <th>component_5</th>\n",
       "      <th>component_6</th>\n",
       "      <th>component_7</th>\n",
       "      <th>component_8</th>\n",
       "      <th>component_9</th>\n",
       "      <th>component_10</th>\n",
       "      <th>...</th>\n",
       "      <th>component_791</th>\n",
       "      <th>component_792</th>\n",
       "      <th>component_793</th>\n",
       "      <th>component_794</th>\n",
       "      <th>component_795</th>\n",
       "      <th>component_796</th>\n",
       "      <th>component_797</th>\n",
       "      <th>component_798</th>\n",
       "      <th>component_799</th>\n",
       "      <th>component_800</th>\n",
       "    </tr>\n",
       "  </thead>\n",
       "  <tbody>\n",
       "    <tr>\n",
       "      <th>datum</th>\n",
       "      <td>0.198082</td>\n",
       "      <td>0.174200</td>\n",
       "      <td>0.005283</td>\n",
       "      <td>0.093367</td>\n",
       "      <td>0.052759</td>\n",
       "      <td>0.132379</td>\n",
       "      <td>0.097066</td>\n",
       "      <td>0.087054</td>\n",
       "      <td>0.078889</td>\n",
       "      <td>0.111333</td>\n",
       "      <td>...</td>\n",
       "      <td>0.006903</td>\n",
       "      <td>0.000427</td>\n",
       "      <td>0.000076</td>\n",
       "      <td>0.005474</td>\n",
       "      <td>0.002953</td>\n",
       "      <td>0.006884</td>\n",
       "      <td>0.002302</td>\n",
       "      <td>0.008581</td>\n",
       "      <td>0.006323</td>\n",
       "      <td>0.002147</td>\n",
       "    </tr>\n",
       "    <tr>\n",
       "      <th>company</th>\n",
       "      <td>0.148685</td>\n",
       "      <td>0.088510</td>\n",
       "      <td>0.069623</td>\n",
       "      <td>0.255465</td>\n",
       "      <td>0.027223</td>\n",
       "      <td>0.049622</td>\n",
       "      <td>0.075905</td>\n",
       "      <td>0.050465</td>\n",
       "      <td>0.126909</td>\n",
       "      <td>0.065995</td>\n",
       "      <td>...</td>\n",
       "      <td>0.003806</td>\n",
       "      <td>0.001521</td>\n",
       "      <td>0.004134</td>\n",
       "      <td>0.000497</td>\n",
       "      <td>0.003658</td>\n",
       "      <td>0.007084</td>\n",
       "      <td>0.005325</td>\n",
       "      <td>0.000407</td>\n",
       "      <td>0.007252</td>\n",
       "      <td>0.012582</td>\n",
       "    </tr>\n",
       "    <tr>\n",
       "      <th>model</th>\n",
       "      <td>0.128171</td>\n",
       "      <td>0.170325</td>\n",
       "      <td>0.040786</td>\n",
       "      <td>0.108752</td>\n",
       "      <td>0.029599</td>\n",
       "      <td>0.088362</td>\n",
       "      <td>0.018630</td>\n",
       "      <td>0.008779</td>\n",
       "      <td>0.019442</td>\n",
       "      <td>0.031244</td>\n",
       "      <td>...</td>\n",
       "      <td>0.009788</td>\n",
       "      <td>0.002095</td>\n",
       "      <td>0.007645</td>\n",
       "      <td>0.009333</td>\n",
       "      <td>0.007610</td>\n",
       "      <td>0.002751</td>\n",
       "      <td>0.006415</td>\n",
       "      <td>0.002703</td>\n",
       "      <td>0.002492</td>\n",
       "      <td>0.000513</td>\n",
       "    </tr>\n",
       "  </tbody>\n",
       "</table>\n",
       "<p>3 rows × 800 columns</p>\n",
       "</div>"
      ],
      "text/plain": [
       "         component_1  component_2  component_3  component_4  component_5  \\\n",
       "datum       0.198082     0.174200     0.005283     0.093367     0.052759   \n",
       "company     0.148685     0.088510     0.069623     0.255465     0.027223   \n",
       "model       0.128171     0.170325     0.040786     0.108752     0.029599   \n",
       "\n",
       "         component_6  component_7  component_8  component_9  component_10  \\\n",
       "datum       0.132379     0.097066     0.087054     0.078889      0.111333   \n",
       "company     0.049622     0.075905     0.050465     0.126909      0.065995   \n",
       "model       0.088362     0.018630     0.008779     0.019442      0.031244   \n",
       "\n",
       "             ...        component_791  component_792  component_793  \\\n",
       "datum        ...             0.006903       0.000427       0.000076   \n",
       "company      ...             0.003806       0.001521       0.004134   \n",
       "model        ...             0.009788       0.002095       0.007645   \n",
       "\n",
       "         component_794  component_795  component_796  component_797  \\\n",
       "datum         0.005474       0.002953       0.006884       0.002302   \n",
       "company       0.000497       0.003658       0.007084       0.005325   \n",
       "model         0.009333       0.007610       0.002751       0.006415   \n",
       "\n",
       "         component_798  component_799  component_800  \n",
       "datum         0.008581       0.006323       0.002147  \n",
       "company       0.000407       0.007252       0.012582  \n",
       "model         0.002703       0.002492       0.000513  \n",
       "\n",
       "[3 rows x 800 columns]"
      ]
     },
     "execution_count": 40,
     "metadata": {},
     "output_type": "execute_result"
    }
   ],
   "source": [
    "vocabulary_expression.abs().T.sort_values('component_1', ascending=False).head(3)"
   ]
  },
  {
   "cell_type": "code",
   "execution_count": 41,
   "metadata": {},
   "outputs": [
    {
     "data": {
      "text/html": [
       "<div>\n",
       "<table border=\"1\" class=\"dataframe\">\n",
       "  <thead>\n",
       "    <tr style=\"text-align: right;\">\n",
       "      <th></th>\n",
       "      <th>component_1</th>\n",
       "      <th>component_2</th>\n",
       "      <th>component_3</th>\n",
       "      <th>component_4</th>\n",
       "      <th>component_5</th>\n",
       "      <th>component_6</th>\n",
       "      <th>component_7</th>\n",
       "      <th>component_8</th>\n",
       "      <th>component_9</th>\n",
       "      <th>component_10</th>\n",
       "      <th>...</th>\n",
       "      <th>component_791</th>\n",
       "      <th>component_792</th>\n",
       "      <th>component_793</th>\n",
       "      <th>component_794</th>\n",
       "      <th>component_795</th>\n",
       "      <th>component_796</th>\n",
       "      <th>component_797</th>\n",
       "      <th>component_798</th>\n",
       "      <th>component_799</th>\n",
       "      <th>component_800</th>\n",
       "    </tr>\n",
       "  </thead>\n",
       "  <tbody>\n",
       "    <tr>\n",
       "      <th>oil</th>\n",
       "      <td>0.115291</td>\n",
       "      <td>0.235276</td>\n",
       "      <td>0.037604</td>\n",
       "      <td>0.259052</td>\n",
       "      <td>0.090919</td>\n",
       "      <td>0.656373</td>\n",
       "      <td>0.203987</td>\n",
       "      <td>0.124699</td>\n",
       "      <td>0.093665</td>\n",
       "      <td>0.006571</td>\n",
       "      <td>...</td>\n",
       "      <td>0.005394</td>\n",
       "      <td>0.010260</td>\n",
       "      <td>0.002125</td>\n",
       "      <td>0.005235</td>\n",
       "      <td>0.001057</td>\n",
       "      <td>0.000074</td>\n",
       "      <td>0.000193</td>\n",
       "      <td>0.001194</td>\n",
       "      <td>0.010273</td>\n",
       "      <td>0.002785</td>\n",
       "    </tr>\n",
       "    <tr>\n",
       "      <th>japanese</th>\n",
       "      <td>0.070221</td>\n",
       "      <td>0.213235</td>\n",
       "      <td>0.078646</td>\n",
       "      <td>0.303237</td>\n",
       "      <td>0.215350</td>\n",
       "      <td>0.116854</td>\n",
       "      <td>0.281915</td>\n",
       "      <td>0.176775</td>\n",
       "      <td>0.074096</td>\n",
       "      <td>0.063993</td>\n",
       "      <td>...</td>\n",
       "      <td>0.003409</td>\n",
       "      <td>0.011208</td>\n",
       "      <td>0.009620</td>\n",
       "      <td>0.008627</td>\n",
       "      <td>0.003200</td>\n",
       "      <td>0.001272</td>\n",
       "      <td>0.007160</td>\n",
       "      <td>0.002033</td>\n",
       "      <td>0.005983</td>\n",
       "      <td>0.001379</td>\n",
       "    </tr>\n",
       "    <tr>\n",
       "      <th>taiwan</th>\n",
       "      <td>0.074175</td>\n",
       "      <td>0.208944</td>\n",
       "      <td>0.060962</td>\n",
       "      <td>0.243670</td>\n",
       "      <td>0.176294</td>\n",
       "      <td>0.114638</td>\n",
       "      <td>0.022749</td>\n",
       "      <td>0.407464</td>\n",
       "      <td>0.325064</td>\n",
       "      <td>0.247356</td>\n",
       "      <td>...</td>\n",
       "      <td>0.007171</td>\n",
       "      <td>0.008733</td>\n",
       "      <td>0.006810</td>\n",
       "      <td>0.003541</td>\n",
       "      <td>0.000045</td>\n",
       "      <td>0.006267</td>\n",
       "      <td>0.004279</td>\n",
       "      <td>0.003924</td>\n",
       "      <td>0.002667</td>\n",
       "      <td>0.008673</td>\n",
       "    </tr>\n",
       "  </tbody>\n",
       "</table>\n",
       "<p>3 rows × 800 columns</p>\n",
       "</div>"
      ],
      "text/plain": [
       "          component_1  component_2  component_3  component_4  component_5  \\\n",
       "oil          0.115291     0.235276     0.037604     0.259052     0.090919   \n",
       "japanese     0.070221     0.213235     0.078646     0.303237     0.215350   \n",
       "taiwan       0.074175     0.208944     0.060962     0.243670     0.176294   \n",
       "\n",
       "          component_6  component_7  component_8  component_9  component_10  \\\n",
       "oil          0.656373     0.203987     0.124699     0.093665      0.006571   \n",
       "japanese     0.116854     0.281915     0.176775     0.074096      0.063993   \n",
       "taiwan       0.114638     0.022749     0.407464     0.325064      0.247356   \n",
       "\n",
       "              ...        component_791  component_792  component_793  \\\n",
       "oil           ...             0.005394       0.010260       0.002125   \n",
       "japanese      ...             0.003409       0.011208       0.009620   \n",
       "taiwan        ...             0.007171       0.008733       0.006810   \n",
       "\n",
       "          component_794  component_795  component_796  component_797  \\\n",
       "oil            0.005235       0.001057       0.000074       0.000193   \n",
       "japanese       0.008627       0.003200       0.001272       0.007160   \n",
       "taiwan         0.003541       0.000045       0.006267       0.004279   \n",
       "\n",
       "          component_798  component_799  component_800  \n",
       "oil            0.001194       0.010273       0.002785  \n",
       "japanese       0.002033       0.005983       0.001379  \n",
       "taiwan         0.003924       0.002667       0.008673  \n",
       "\n",
       "[3 rows x 800 columns]"
      ]
     },
     "execution_count": 41,
     "metadata": {},
     "output_type": "execute_result"
    }
   ],
   "source": [
    "vocabulary_expression.abs().T.sort_values('component_2', ascending=False).head(3)"
   ]
  },
  {
   "cell_type": "code",
   "execution_count": 42,
   "metadata": {},
   "outputs": [
    {
     "data": {
      "text/plain": [
       "[b'tbl_vocabulary_expression', b'tbl_LSA']"
      ]
     },
     "execution_count": 42,
     "metadata": {},
     "output_type": "execute_result"
    }
   ],
   "source": [
    "r = redis.StrictRedis(redis_ip)\n",
    "vocabulary_expression = pickle.dumps(vocabulary_expression)\n",
    "r.set('tbl_vocabulary_expression', vocabulary_expression)\n",
    "r.keys()"
   ]
  },
  {
   "cell_type": "code",
   "execution_count": 67,
   "metadata": {
    "scrolled": false
   },
   "outputs": [
    {
     "name": "stderr",
     "output_type": "stream",
     "text": [
      "/opt/conda/lib/python3.5/site-packages/matplotlib/axes/_axes.py:545: UserWarning: No labelled objects found. Use label='...' kwarg on individual plots.\n",
      "  warnings.warn(\"No labelled objects found. \"\n",
      "/opt/conda/lib/python3.5/site-packages/matplotlib/font_manager.py:1297: UserWarning: findfont: Font family ['sans-serif'] not found. Falling back to DejaVu Sans\n",
      "  (prop.get_family(), self.defaultFamily[fontext]))\n"
     ]
    },
    {
     "data": {
      "image/png": "[encoded data removed]",
      "text/plain": [
       "<matplotlib.figure.Figure at 0x7f81d2265ef0>"
      ]
     },
     "metadata": {},
     "output_type": "display_data"
    }
   ],
   "source": [
    "plt.figure(figsize=(10,10))\n",
    "plt.subplot(221)\n",
    "pc_1 = latent_semantic_analysis['component_1'].values\n",
    "pc_2 = latent_semantic_analysis['component_2'].values\n",
    "plt.scatter(pc_1, pc_2, c=wiki_df['category_numerical'],cmap='summer')\n",
    "plt.xlabel('1st PC')\n",
    "plt.ylabel('2nd PC')\n",
    "plt.axvline(linewidth=0.5)\n",
    "plt.axhline(linewidth=0.5)\n",
    "plt.legend()\n",
    "\n",
    "plt.subplot(222)\n",
    "pc_1 = latent_semantic_analysis['component_1'].values\n",
    "pc_3 = latent_semantic_analysis['component_3'].values\n",
    "plt.scatter(pc_1, pc_3, c=wiki_df['category_numerical'],cmap='summer')\n",
    "plt.xlabel('1st PC')\n",
    "plt.ylabel('3rd PC')\n",
    "plt.axvline(linewidth=0.5)\n",
    "plt.axhline(linewidth=0.5)\n",
    "plt.legend()\n",
    "\n",
    "plt.subplot(223)\n",
    "pc_1 = latent_semantic_analysis['component_1'].values\n",
    "pc_4 = latent_semantic_analysis['component_4'].values\n",
    "plt.scatter(pc_1, pc_4, c=wiki_df['category_numerical'],cmap='summer')\n",
    "plt.xlabel('1st PC')\n",
    "plt.ylabel('4th PC')\n",
    "plt.axvline(linewidth=0.5)\n",
    "plt.axhline(linewidth=0.5)\n",
    "plt.legend()\n",
    "\n",
    "plt.subplot(224)\n",
    "pc_1 = latent_semantic_analysis['component_1'].values\n",
    "pc_5 = latent_semantic_analysis['component_5'].values\n",
    "plt.scatter(pc_1, pc_5, c=wiki_df['category_numerical'],cmap='summer')\n",
    "plt.xlabel('1st PC')\n",
    "plt.ylabel('5th PC')\n",
    "plt.axvline(linewidth=0.5)\n",
    "plt.axhline(linewidth=0.5)\n",
    "plt.legend()\n",
    "\n",
    "\n"
   ]
  },
  {
   "cell_type": "code",
   "execution_count": null,
   "metadata": {
    "collapsed": true
   },
   "outputs": [],
   "source": []
  }
 ],
 "metadata": {
  "kernelspec": {
   "display_name": "Python 3",
   "language": "python",
   "name": "python3"
  },
  "language_info": {
   "codemirror_mode": {
    "name": "ipython",
    "version": 3
   },
   "file_extension": ".py",
   "mimetype": "text/x-python",
   "name": "python",
   "nbconvert_exporter": "python",
   "pygments_lexer": "ipython3",
   "version": "3.5.2"
  }
 },
 "nbformat": 4,
 "nbformat_minor": 2
}
