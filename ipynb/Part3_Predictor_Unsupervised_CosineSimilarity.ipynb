{
 "cells": [
  {
   "cell_type": "code",
   "execution_count": 1,
   "metadata": {},
   "outputs": [
    {
     "name": "stdout",
     "output_type": "stream",
     "text": [
      "Collecting pymongo\n",
      "  Downloading pymongo-3.4.0-cp35-cp35m-manylinux1_x86_64.whl (359kB)\n",
      "\u001b[K    100% |████████████████████████████████| 368kB 2.7MB/s ta 0:00:011\n",
      "\u001b[?25hInstalling collected packages: pymongo\n",
      "Successfully installed pymongo-3.4.0\n",
      "\u001b[33mYou are using pip version 8.1.2, however version 9.0.1 is available.\n",
      "You should consider upgrading via the 'pip install --upgrade pip' command.\u001b[0m\n"
     ]
    }
   ],
   "source": [
    "!pip install pymongo\n",
    "import pymongo\n",
    "cli = pymongo.MongoClient(host='34.212.59.71')"
   ]
  },
  {
   "cell_type": "code",
   "execution_count": 2,
   "metadata": {
    "collapsed": true
   },
   "outputs": [],
   "source": [
    "import numpy as np\n",
    "import pandas as pd\n",
    "import seaborn as sns\n",
    "import matplotlib.pyplot as plt\n",
    "%matplotlib inline"
   ]
  },
  {
   "cell_type": "code",
   "execution_count": 3,
   "metadata": {},
   "outputs": [
    {
     "data": {
      "text/plain": [
       "['admin', 'local', 'wiki_mongo_database', 'wiki_mongo_db']"
      ]
     },
     "execution_count": 3,
     "metadata": {},
     "output_type": "execute_result"
    }
   ],
   "source": [
    "cli.database_names()"
   ]
  },
  {
   "cell_type": "code",
   "execution_count": 4,
   "metadata": {
    "collapsed": true
   },
   "outputs": [],
   "source": [
    "wiki_mongo_database = cli.wiki_mongo_database\n",
    "wiki_cat_collection = cli.wiki_mongo_database.wiki_cat_collection\n",
    "wiki_cos_sim_collection = cli.wiki_mongo_database.wiki_cos_sim_collection"
   ]
  },
  {
   "cell_type": "code",
   "execution_count": 5,
   "metadata": {},
   "outputs": [
    {
     "data": {
      "text/html": [
       "<div>\n",
       "<table border=\"1\" class=\"dataframe\">\n",
       "  <thead>\n",
       "    <tr style=\"text-align: right;\">\n",
       "      <th></th>\n",
       "      <th>_id</th>\n",
       "      <th>category</th>\n",
       "      <th>clean_content</th>\n",
       "      <th>content</th>\n",
       "      <th>pageid</th>\n",
       "      <th>title</th>\n",
       "    </tr>\n",
       "  </thead>\n",
       "  <tbody>\n",
       "    <tr>\n",
       "      <th>0</th>\n",
       "      <td>591b9c60ad28cdd96d814531</td>\n",
       "      <td>machine learning</td>\n",
       "      <td>approximate near neighbor search special case ...</td>\n",
       "      <td>(1+ε)-approximate nearest neighbor search is a...</td>\n",
       "      <td>32003319</td>\n",
       "      <td>(1+ε)-approximate nearest neighbor search</td>\n",
       "    </tr>\n",
       "    <tr>\n",
       "      <th>1</th>\n",
       "      <td>591b9c65ad28cdd96d814535</td>\n",
       "      <td>machine learning</td>\n",
       "      <td>adaline adaptive linear neuron later adaptive ...</td>\n",
       "      <td>ADALINE (Adaptive Linear Neuron or later Adapt...</td>\n",
       "      <td>8220913</td>\n",
       "      <td>ADALINE</td>\n",
       "    </tr>\n",
       "  </tbody>\n",
       "</table>\n",
       "</div>"
      ],
      "text/plain": [
       "                        _id          category  \\\n",
       "0  591b9c60ad28cdd96d814531  machine learning   \n",
       "1  591b9c65ad28cdd96d814535  machine learning   \n",
       "\n",
       "                                       clean_content  \\\n",
       "0  approximate near neighbor search special case ...   \n",
       "1  adaline adaptive linear neuron later adaptive ...   \n",
       "\n",
       "                                             content    pageid  \\\n",
       "0  (1+ε)-approximate nearest neighbor search is a...  32003319   \n",
       "1  ADALINE (Adaptive Linear Neuron or later Adapt...   8220913   \n",
       "\n",
       "                                       title  \n",
       "0  (1+ε)-approximate nearest neighbor search  \n",
       "1                                    ADALINE  "
      ]
     },
     "execution_count": 5,
     "metadata": {},
     "output_type": "execute_result"
    }
   ],
   "source": [
    "wiki_df = pd.DataFrame(list(cli.wiki_mongo_database.wiki_mongo_collection.find({})))\n",
    "wiki_df.head(2)"
   ]
  },
  {
   "cell_type": "code",
   "execution_count": 6,
   "metadata": {
    "collapsed": true
   },
   "outputs": [],
   "source": [
    "wiki_cat_collection.drop()\n",
    "for c in list(wiki_df['category'].unique()):\n",
    "    text = ''\n",
    "    for i in wiki_df['clean_content'][wiki_df['category']==c]:\n",
    "        text += ' '+ i\n",
    "    dict_ = {\n",
    "            'category': c,\n",
    "            'text': text\n",
    "                }\n",
    "    wiki_cat_collection.update_one(dict_,{'$set': dict_}, upsert=True)"
   ]
  },
  {
   "cell_type": "code",
   "execution_count": 7,
   "metadata": {},
   "outputs": [
    {
     "data": {
      "text/plain": [
       "4549932"
      ]
     },
     "execution_count": 7,
     "metadata": {},
     "output_type": "execute_result"
    }
   ],
   "source": [
    "wiki_cat_df = pd.DataFrame(list(cli.wiki_mongo_database.wiki_cat_collection.find({})))\n",
    "len(wiki_cat_df['text'][wiki_cat_df['category']=='machine learning'][0])"
   ]
  },
  {
   "cell_type": "code",
   "execution_count": 8,
   "metadata": {},
   "outputs": [
    {
     "data": {
      "text/html": [
       "<div>\n",
       "<table border=\"1\" class=\"dataframe\">\n",
       "  <thead>\n",
       "    <tr style=\"text-align: right;\">\n",
       "      <th></th>\n",
       "      <th>category</th>\n",
       "      <th>text</th>\n",
       "    </tr>\n",
       "  </thead>\n",
       "  <tbody>\n",
       "    <tr>\n",
       "      <th>0</th>\n",
       "      <td>machine learning</td>\n",
       "      <td>approximate near neighbor search special case...</td>\n",
       "    </tr>\n",
       "    <tr>\n",
       "      <th>1</th>\n",
       "      <td>Microsoft Office</td>\n",
       "      <td>analyse statistical analysis add microsoft ex...</td>\n",
       "    </tr>\n",
       "    <tr>\n",
       "      <th>2</th>\n",
       "      <td>Geographic information systems</td>\n",
       "      <td>world atlas virtual globe program develop cos...</td>\n",
       "    </tr>\n",
       "    <tr>\n",
       "      <th>3</th>\n",
       "      <td>Petroleum</td>\n",
       "      <td>avenue americas know news corp building inter...</td>\n",
       "    </tr>\n",
       "    <tr>\n",
       "      <th>4</th>\n",
       "      <td>Yoga</td>\n",
       "      <td>adho mukha sana adho mukha shvanasana ipa muk...</td>\n",
       "    </tr>\n",
       "  </tbody>\n",
       "</table>\n",
       "</div>"
      ],
      "text/plain": [
       "                         category  \\\n",
       "0                machine learning   \n",
       "1                Microsoft Office   \n",
       "2  Geographic information systems   \n",
       "3                       Petroleum   \n",
       "4                            Yoga   \n",
       "\n",
       "                                                text  \n",
       "0   approximate near neighbor search special case...  \n",
       "1   analyse statistical analysis add microsoft ex...  \n",
       "2   world atlas virtual globe program develop cos...  \n",
       "3   avenue americas know news corp building inter...  \n",
       "4   adho mukha sana adho mukha shvanasana ipa muk...  "
      ]
     },
     "execution_count": 8,
     "metadata": {},
     "output_type": "execute_result"
    }
   ],
   "source": [
    "wiki_cat_df[['category','text']].head()"
   ]
  },
  {
   "cell_type": "code",
   "execution_count": 9,
   "metadata": {
    "collapsed": true
   },
   "outputs": [],
   "source": [
    "from spacy.en import English\n",
    "nlp = English()"
   ]
  },
  {
   "cell_type": "code",
   "execution_count": 10,
   "metadata": {
    "collapsed": true
   },
   "outputs": [],
   "source": [
    "from scipy.spatial.distance import cosine\n",
    "from sklearn.metrics.pairwise import cosine_similarity"
   ]
  },
  {
   "cell_type": "code",
   "execution_count": 11,
   "metadata": {
    "collapsed": true
   },
   "outputs": [],
   "source": [
    "cat_vecs = np.array([nlp(i).vector for i in wiki_cat_df['text']])"
   ]
  },
  {
   "cell_type": "code",
   "execution_count": 12,
   "metadata": {
    "collapsed": true
   },
   "outputs": [],
   "source": [
    "content_vecs = np.array([nlp(i).vector for i in wiki_df['clean_content']])"
   ]
  },
  {
   "cell_type": "code",
   "execution_count": 13,
   "metadata": {},
   "outputs": [
    {
     "name": "stdout",
     "output_type": "stream",
     "text": [
      "Requirement already satisfied (use --upgrade to upgrade): redis in /opt/conda/lib/python3.5/site-packages\r\n",
      "\u001b[33mYou are using pip version 8.1.2, however version 9.0.1 is available.\r\n",
      "You should consider upgrading via the 'pip install --upgrade pip' command.\u001b[0m\r\n"
     ]
    },
    {
     "data": {
      "text/plain": [
       "True"
      ]
     },
     "execution_count": 13,
     "metadata": {},
     "output_type": "execute_result"
    }
   ],
   "source": [
    "import pickle\n",
    "!pip install redis\n",
    "import redis\n",
    "redis_ip = '34.212.59.71'\n",
    "r = redis.StrictRedis(redis_ip)\n",
    "nlp_cat_vecs = pickle.dumps(cat_vecs)\n",
    "r.set('nlp_cat_vecs', nlp_cat_vecs)\n",
    "nlp_content_vecs = pickle.dumps(content_vecs)\n",
    "r.set('nlp_content_vecs', nlp_content_vecs)"
   ]
  },
  {
   "cell_type": "code",
   "execution_count": 14,
   "metadata": {
    "collapsed": true
   },
   "outputs": [],
   "source": [
    "from scipy.spatial.distance import cosine\n",
    "from sklearn.metrics.pairwise import cosine_similarity"
   ]
  },
  {
   "cell_type": "code",
   "execution_count": 17,
   "metadata": {
    "collapsed": true
   },
   "outputs": [],
   "source": [
    "import redis\n",
    "redis_ip = '34.212.59.71'\n",
    "content_vecs = pickle.loads(r.get('nlp_content_vecs'))\n",
    "cat_vecs = pickle.loads(r.get('nlp_cat_vecs'))\n",
    "def Similarity_score(text):\n",
    "    wiki_cat_df = pd.DataFrame(list(cli.wiki_mongo_database.wiki_cat_collection.find({})))\n",
    "    #cat_vecs = np.array([nlp(i).vector for i in wiki_cat_df['text']])\n",
    "    r = redis.StrictRedis(redis_ip)\n",
    "    cat_vecs = pickle.loads(r.get('nlp_cat_vecs'))\n",
    "    similarity_score={}\n",
    "    for j in range(len(cat_vecs)):\n",
    "        similarity = cosine_similarity(cat_vecs[j].reshape(1,-1),nlp(text).vector.reshape(1,-1))\n",
    "        similarity_score[(wiki_cat_df['category'][j])] = round(similarity[0][0],3)\n",
    "        cs_s_df = pd.DataFrame.from_dict(similarity_score,orient='index')\n",
    "        cs_s_df.columns = ['score']\n",
    "        cs_s_df = cs_s_df.sort_values('score',ascending=False)\n",
    "    return cs_s_df.head(3)"
   ]
  },
  {
   "cell_type": "code",
   "execution_count": 18,
   "metadata": {},
   "outputs": [
    {
     "data": {
      "text/html": [
       "<div>\n",
       "<table border=\"1\" class=\"dataframe\">\n",
       "  <thead>\n",
       "    <tr style=\"text-align: right;\">\n",
       "      <th></th>\n",
       "      <th>score</th>\n",
       "    </tr>\n",
       "  </thead>\n",
       "  <tbody>\n",
       "    <tr>\n",
       "      <th>Petroleum</th>\n",
       "      <td>0.418</td>\n",
       "    </tr>\n",
       "    <tr>\n",
       "      <th>Taiwan</th>\n",
       "      <td>0.402</td>\n",
       "    </tr>\n",
       "    <tr>\n",
       "      <th>Yoga</th>\n",
       "      <td>0.379</td>\n",
       "    </tr>\n",
       "  </tbody>\n",
       "</table>\n",
       "</div>"
      ],
      "text/plain": [
       "           score\n",
       "Petroleum  0.418\n",
       "Taiwan     0.402\n",
       "Yoga       0.379"
      ]
     },
     "execution_count": 18,
     "metadata": {},
     "output_type": "execute_result"
    }
   ],
   "source": [
    "Similarity_score('lake')"
   ]
  },
  {
   "cell_type": "code",
   "execution_count": 19,
   "metadata": {
    "collapsed": true
   },
   "outputs": [],
   "source": [
    "wiki_cos_sim_collection.drop()\n",
    "dict_cos_sim={}\n",
    "import redis\n",
    "redis_ip = '34.210.97.79'\n",
    "content_vecs = pickle.loads(r.get('nlp_content_vecs'))\n",
    "cat_vecs = pickle.loads(r.get('nlp_cat_vecs'))\n",
    "\n",
    "for i in range(len(content_vecs)):\n",
    "    dict_cos_sim['title']=  wiki_df['title'][i]\n",
    "    dict_cos_sim['category']= wiki_df['category'][i]\n",
    "    for j in range(len(cat_vecs)):\n",
    "        similarity = cosine_similarity(cat_vecs[j].reshape(1,-1),content_vecs[i].reshape(1,-1))        \n",
    "        dict_cos_sim['{}'.format(wiki_cat_df['category'][j])]= round(similarity[0][0],3)\n",
    "    wiki_cos_sim_collection.update_one(dict_cos_sim,{'$set': dict_cos_sim}, upsert=True)"
   ]
  },
  {
   "cell_type": "code",
   "execution_count": 20,
   "metadata": {},
   "outputs": [
    {
     "data": {
      "text/plain": [
       "['wiki_cos_sim_collection', 'wiki_mongo_collection', 'wiki_cat_collection']"
      ]
     },
     "execution_count": 20,
     "metadata": {},
     "output_type": "execute_result"
    }
   ],
   "source": [
    "cli.wiki_mongo_database.collection_names()"
   ]
  },
  {
   "cell_type": "code",
   "execution_count": 21,
   "metadata": {},
   "outputs": [
    {
     "data": {
      "text/plain": [
       "['machine learning',\n",
       " 'Microsoft Office',\n",
       " 'Geographic information systems',\n",
       " 'Petroleum',\n",
       " 'Yoga',\n",
       " 'Business intelligence',\n",
       " 'Taiwan',\n",
       " 'Statistical_methods']"
      ]
     },
     "execution_count": 21,
     "metadata": {},
     "output_type": "execute_result"
    }
   ],
   "source": [
    "list(wiki_df['category'].unique())"
   ]
  },
  {
   "cell_type": "code",
   "execution_count": 22,
   "metadata": {
    "collapsed": true
   },
   "outputs": [],
   "source": [
    "cos_df = pd.DataFrame(list(cli.wiki_mongo_database.wiki_cos_sim_collection.find({})))\n",
    "cos_df = cos_df[['category','title','machine learning',\\\n",
    "                 'Microsoft Office',\\\n",
    "                 'Geographic information systems',\\\n",
    "                 'Petroleum',\\\n",
    "                 'Yoga',\\\n",
    "                 'Business intelligence',\\\n",
    "                 'Taiwan',\\\n",
    "                 'Statistical_methods']]"
   ]
  },
  {
   "cell_type": "code",
   "execution_count": null,
   "metadata": {},
   "outputs": [
    {
     "data": {
      "text/plain": [
       "'Yoga'"
      ]
     },
     "execution_count": 23,
     "metadata": {},
     "output_type": "execute_result"
    }
   ],
   "source": [
    "cos_df.iloc[3, 2:-1].sort_values(ascending=False).index[0]"
   ]
  },
  {
   "cell_type": "code",
   "execution_count": null,
   "metadata": {},
   "outputs": [
    {
     "name": "stderr",
     "output_type": "stream",
     "text": [
      "/opt/conda/lib/python3.5/site-packages/ipykernel_launcher.py:3: SettingWithCopyWarning: \n",
      "A value is trying to be set on a copy of a slice from a DataFrame\n",
      "\n",
      "See the caveats in the documentation: http://pandas.pydata.org/pandas-docs/stable/indexing.html#indexing-view-versus-copy\n",
      "  This is separate from the ipykernel package so we can avoid doing imports until\n",
      "/opt/conda/lib/python3.5/site-packages/pandas/core/indexing.py:141: SettingWithCopyWarning: \n",
      "A value is trying to be set on a copy of a slice from a DataFrame\n",
      "\n",
      "See the caveats in the documentation: http://pandas.pydata.org/pandas-docs/stable/indexing.html#indexing-view-versus-copy\n",
      "  self._setitem_with_indexer(indexer, value)\n"
     ]
    }
   ],
   "source": [
    "cos_df['predicted_cat'] = 0\n",
    "for i in range(len(cos_df)):\n",
    "    cos_df['predicted_cat'][i] = cos_df.iloc[i, 2:-1].sort_values(ascending=False).index[0]   "
   ]
  },
  {
   "cell_type": "code",
   "execution_count": null,
   "metadata": {
    "collapsed": true
   },
   "outputs": [],
   "source": [
    "cos_df"
   ]
  },
  {
   "cell_type": "code",
   "execution_count": null,
   "metadata": {
    "collapsed": true
   },
   "outputs": [],
   "source": [
    "print('pridiction score with Cosine Similarity:', \n",
    "      sum(cos_df['category'] == cos_df['predicted_cat'])/len(cos_df))"
   ]
  },
  {
   "cell_type": "code",
   "execution_count": null,
   "metadata": {
    "collapsed": true
   },
   "outputs": [],
   "source": []
  }
 ],
 "metadata": {
  "kernelspec": {
   "display_name": "Python 3",
   "language": "python",
   "name": "python3"
  },
  "language_info": {
   "codemirror_mode": {
    "name": "ipython",
    "version": 3
   },
   "file_extension": ".py",
   "mimetype": "text/x-python",
   "name": "python",
   "nbconvert_exporter": "python",
   "pygments_lexer": "ipython3",
   "version": "3.5.2"
  }
 },
 "nbformat": 4,
 "nbformat_minor": 2
}
