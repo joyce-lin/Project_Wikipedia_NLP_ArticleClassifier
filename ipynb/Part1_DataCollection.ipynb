{
 "cells": [
  {
   "cell_type": "code",
   "execution_count": 2,
   "metadata": {
    "collapsed": true
   },
   "outputs": [],
   "source": [
    "import re\n",
    "import requests\n",
    "import pandas as pd\n",
    "import numpy as np\n",
    "import json\n",
    "from IPython.display import display\n",
    "import sys\n",
    "sys.setrecursionlimit(6000)"
   ]
  },
  {
   "cell_type": "markdown",
   "metadata": {},
   "source": [
    "#### Set up Mongo DB"
   ]
  },
  {
   "cell_type": "code",
   "execution_count": 3,
   "metadata": {
    "scrolled": false
   },
   "outputs": [
    {
     "name": "stdout",
     "output_type": "stream",
     "text": [
      "Collecting pymongo\n",
      "  Downloading pymongo-3.4.0-cp35-cp35m-manylinux1_x86_64.whl (359kB)\n",
      "\u001b[K    100% |████████████████████████████████| 368kB 1.4MB/s ta 0:00:01\n",
      "\u001b[?25hInstalling collected packages: pymongo\n",
      "Successfully installed pymongo-3.4.0\n",
      "\u001b[33mYou are using pip version 8.1.2, however version 9.0.1 is available.\n",
      "You should consider upgrading via the 'pip install --upgrade pip' command.\u001b[0m\n"
     ]
    }
   ],
   "source": [
    "!pip install pymongo\n",
    "import pymongo\n",
    "cli = pymongo.MongoClient(host='34.210.97.79')"
   ]
  },
  {
   "cell_type": "code",
   "execution_count": 4,
   "metadata": {
    "scrolled": true
   },
   "outputs": [
    {
     "data": {
      "text/plain": [
       "['admin', 'local', 'wiki_mongo_database', 'wiki_mongo_db']"
      ]
     },
     "execution_count": 4,
     "metadata": {},
     "output_type": "execute_result"
    }
   ],
   "source": [
    "cli.database_names()"
   ]
  },
  {
   "cell_type": "code",
   "execution_count": 5,
   "metadata": {
    "scrolled": true
   },
   "outputs": [
    {
     "data": {
      "text/plain": [
       "['admin', 'local', 'wiki_mongo_database', 'wiki_mongo_db']"
      ]
     },
     "execution_count": 5,
     "metadata": {},
     "output_type": "execute_result"
    }
   ],
   "source": [
    "#Create a reference to a database\n",
    "wiki_mongo_database = cli.wiki_mongo_database\n",
    "cli.database_names()"
   ]
  },
  {
   "cell_type": "code",
   "execution_count": 6,
   "metadata": {},
   "outputs": [
    {
     "data": {
      "text/plain": [
       "['admin', 'local', 'wiki_mongo_database', 'wiki_mongo_db']"
      ]
     },
     "execution_count": 6,
     "metadata": {},
     "output_type": "execute_result"
    }
   ],
   "source": [
    "#Create a reference to a collection\n",
    "wiki_mongo_collection = cli.wiki_mongo_database.wiki_mongo_collection\n",
    "cli.database_names()"
   ]
  },
  {
   "cell_type": "markdown",
   "metadata": {},
   "source": [
    "### Using Wikipedia Python Library"
   ]
  },
  {
   "cell_type": "code",
   "execution_count": 15,
   "metadata": {},
   "outputs": [
    {
     "name": "stdout",
     "output_type": "stream",
     "text": [
      "Collecting wikipedia\n",
      "  Downloading wikipedia-1.4.0.tar.gz\n",
      "Requirement already satisfied (use --upgrade to upgrade): beautifulsoup4 in /opt/conda/lib/python3.5/site-packages (from wikipedia)\n",
      "Requirement already satisfied (use --upgrade to upgrade): requests<3.0.0,>=2.0.0 in /opt/conda/lib/python3.5/site-packages (from wikipedia)\n",
      "Building wheels for collected packages: wikipedia\n",
      "  Running setup.py bdist_wheel for wikipedia ... \u001b[?25ldone\n",
      "\u001b[?25h  Stored in directory: /home/jovyan/.cache/pip/wheels/bf/87/25/df698dd7b66a42c1c5f3bd36f8155d4518d210f5e2c128b440\n",
      "Successfully built wikipedia\n",
      "Installing collected packages: wikipedia\n",
      "Successfully installed wikipedia-1.4.0\n",
      "\u001b[33mYou are using pip version 8.1.2, however version 9.0.1 is available.\n",
      "You should consider upgrading via the 'pip install --upgrade pip' command.\u001b[0m\n"
     ]
    }
   ],
   "source": [
    "! pip install wikipedia\n",
    "import wikipedia"
   ]
  },
  {
   "cell_type": "code",
   "execution_count": 55,
   "metadata": {
    "collapsed": true,
    "scrolled": true
   },
   "outputs": [],
   "source": [
    "DEBUG = True\n",
    "VERBOSE = True\n",
    "\n",
    "#if VERBOSE: print ('generating query string fpr pageid{}'.format(pageid))\n",
    "#if DEBUG: print(response_json)\n",
    "def qry_category(category):\n",
    "    new_str = re.sub('\\s','+', category) \n",
    "    r = requests.get('http://en.wikipedia.org/w/api.php?\\\n",
    "                     action=query&\\\n",
    "                     format=json&\\\n",
    "                     list=categorymembers&\\\n",
    "                     cmtitle=Category%3A+{}&\\\n",
    "                     cmlimit=max'.format(new_str))\n",
    "    re.sub('\\s','+', category)\n",
    "    return pd.DataFrame(r.json()['query']['categorymembers'])\n",
    "\n",
    "\n",
    "def get_page_df(category):\n",
    "    ml_df = qry_category(category)\n",
    "    pages_list=[]\n",
    "    page_df = ml_df[~ml_df['title'].str.contains('Category:')]\n",
    "    page_df['category'] = category\n",
    "    pages_list.append(page_df)\n",
    "    category_df = ml_df[ml_df['title'].str.contains('Category:')]\n",
    "    categories = category_df[category_df['title'].\\\n",
    "                             str.contains('Category:')]['title'].str.replace('Category:',\"\")\n",
    "    if (category_df.shape[0]>0):\n",
    "    #if (category_df.shape[0]>0 and category_df.shape[0]<30):     \n",
    "        try:\n",
    "            for category in categories:\n",
    "                pages_list.append(get_page_df(category))\n",
    "                if VERBOSE: print ('current_category: {}'.format(category))\n",
    "        except KeyError:\n",
    "            pass\n",
    "    pages_df = pd.concat(pages_list)\n",
    "    pages_df = pages_df.sort_values(by='title', axis=0, ascending=True)\n",
    "    return pages_df\n",
    "\n",
    "def get_pages_for_category(category):\n",
    "    df =get_page_df(category)\n",
    "    df['category'] = category\n",
    "    df = df.reset_index()\n",
    "    return df\n",
    "\n",
    "def insert_to_wiki_mongo(Category='main page'):\n",
    "    df = get_page_df(Category)\n",
    "    dict_list = []\n",
    "    for i in df['pageid']:\n",
    "        try:\n",
    "            page= wikipedia.page(pageid=i)\n",
    "            if VERBOSE: print(page.pageid,page.title)\n",
    "            dict_ = {\n",
    "                \"pageid\":page.pageid,\n",
    "                \"title\":page.title,\n",
    "                \"content\":page.content,\n",
    "                \"category\":Category,\n",
    "                   }\n",
    "           \n",
    "            wiki_mongo_collection.update_one(dict_,{'$set': dict_}, upsert=True)\n",
    "        except AttributeError:\n",
    "            pass\n",
    "        except ValueError:\n",
    "            print(dict_)\n",
    "            raise\n",
    "    return cli.database_names(), wiki_mongo_collection.count()"
   ]
  },
  {
   "cell_type": "code",
   "execution_count": 61,
   "metadata": {
    "collapsed": true,
    "scrolled": true
   },
   "outputs": [],
   "source": [
    "#insert_to_wiki_mongo('machine learning')\n",
    "#insert_to_wiki_mongo('Microsoft Office')\n",
    "#insert_to_wiki_mongo('Geographic information systems')\n",
    "#insert_to_wiki_mongo('History of the petroleum industry')\n",
    "#insert_to_wiki_mongo('Yoga techniques')\n",
    "#insert_to_wiki_mongo('Business intelligence')\n",
    "#insert_to_wiki_mongo('Culture_in_Taipei')\n",
    "#insert_to_wiki_mongo('Statistical_methods')\n",
    "#insert_to_wiki_mongo('Diets')\n",
    "#insert_to_wiki_mongo('Social_media')\n",
    "#insert_to_wiki_mongo('History_of_Taiwan')\n",
    "#insert_to_wiki_mongo('Taiwan_under_Japanese_rule')\n",
    "#insert_to_wiki_mongo('Taiwan independence movement')\n",
    "#insert_to_wiki_mongo('Yogis')\n",
    "#insert_to_wiki_mongo('Yoga')\n",
    "#insert_to_wiki_mongo('Taiwan')\n",
    "\n",
    "#### Too many sub categories for recursive\n",
    "#### insert_to_wiki_mongo('Business software')\n"
   ]
  },
  {
   "cell_type": "code",
   "execution_count": 10,
   "metadata": {},
   "outputs": [
    {
     "data": {
      "text/plain": [
       "5665"
      ]
     },
     "execution_count": 10,
     "metadata": {},
     "output_type": "execute_result"
    }
   ],
   "source": [
    "wiki_mongo_collection.count()"
   ]
  },
  {
   "cell_type": "code",
   "execution_count": 11,
   "metadata": {},
   "outputs": [
    {
     "data": {
      "text/html": [
       "<div>\n",
       "<table border=\"1\" class=\"dataframe\">\n",
       "  <thead>\n",
       "    <tr style=\"text-align: right;\">\n",
       "      <th></th>\n",
       "      <th>_id</th>\n",
       "      <th>category</th>\n",
       "      <th>clean_content</th>\n",
       "      <th>content</th>\n",
       "      <th>pageid</th>\n",
       "      <th>title</th>\n",
       "    </tr>\n",
       "  </thead>\n",
       "  <tbody>\n",
       "    <tr>\n",
       "      <th>0</th>\n",
       "      <td>591b9c60ad28cdd96d814531</td>\n",
       "      <td>machine learning</td>\n",
       "      <td>approximate near neighbor search special case ...</td>\n",
       "      <td>(1+ε)-approximate nearest neighbor search is a...</td>\n",
       "      <td>32003319</td>\n",
       "      <td>(1+ε)-approximate nearest neighbor search</td>\n",
       "    </tr>\n",
       "    <tr>\n",
       "      <th>1</th>\n",
       "      <td>591b9c65ad28cdd96d814535</td>\n",
       "      <td>machine learning</td>\n",
       "      <td>adaline adaptive linear neuron later adaptive ...</td>\n",
       "      <td>ADALINE (Adaptive Linear Neuron or later Adapt...</td>\n",
       "      <td>8220913</td>\n",
       "      <td>ADALINE</td>\n",
       "    </tr>\n",
       "    <tr>\n",
       "      <th>2</th>\n",
       "      <td>591b9c66ad28cdd96d814538</td>\n",
       "      <td>machine learning</td>\n",
       "      <td>ai formally know dartmouth artificial intellig...</td>\n",
       "      <td>AI@50, formally known as the \"Dartmouth Artifi...</td>\n",
       "      <td>27562454</td>\n",
       "      <td>AI@50</td>\n",
       "    </tr>\n",
       "    <tr>\n",
       "      <th>3</th>\n",
       "      <td>591b9c67ad28cdd96d81453a</td>\n",
       "      <td>machine learning</td>\n",
       "      <td>aiva artificial intelligence virtual artist de...</td>\n",
       "      <td>AIVA (Artificial Intelligence Virtual Artist) ...</td>\n",
       "      <td>52642349</td>\n",
       "      <td>AIVA</td>\n",
       "    </tr>\n",
       "    <tr>\n",
       "      <th>4</th>\n",
       "      <td>591b9c6aad28cdd96d81453e</td>\n",
       "      <td>machine learning</td>\n",
       "      <td>aixi ai si theoretical mathematical formalism ...</td>\n",
       "      <td>AIXI ['ai̯k͡siː] is a theoretical mathematical...</td>\n",
       "      <td>30511763</td>\n",
       "      <td>AIXI</td>\n",
       "    </tr>\n",
       "  </tbody>\n",
       "</table>\n",
       "</div>"
      ],
      "text/plain": [
       "                        _id          category  \\\n",
       "0  591b9c60ad28cdd96d814531  machine learning   \n",
       "1  591b9c65ad28cdd96d814535  machine learning   \n",
       "2  591b9c66ad28cdd96d814538  machine learning   \n",
       "3  591b9c67ad28cdd96d81453a  machine learning   \n",
       "4  591b9c6aad28cdd96d81453e  machine learning   \n",
       "\n",
       "                                       clean_content  \\\n",
       "0  approximate near neighbor search special case ...   \n",
       "1  adaline adaptive linear neuron later adaptive ...   \n",
       "2  ai formally know dartmouth artificial intellig...   \n",
       "3  aiva artificial intelligence virtual artist de...   \n",
       "4  aixi ai si theoretical mathematical formalism ...   \n",
       "\n",
       "                                             content    pageid  \\\n",
       "0  (1+ε)-approximate nearest neighbor search is a...  32003319   \n",
       "1  ADALINE (Adaptive Linear Neuron or later Adapt...   8220913   \n",
       "2  AI@50, formally known as the \"Dartmouth Artifi...  27562454   \n",
       "3  AIVA (Artificial Intelligence Virtual Artist) ...  52642349   \n",
       "4  AIXI ['ai̯k͡siː] is a theoretical mathematical...  30511763   \n",
       "\n",
       "                                       title  \n",
       "0  (1+ε)-approximate nearest neighbor search  \n",
       "1                                    ADALINE  \n",
       "2                                      AI@50  \n",
       "3                                       AIVA  \n",
       "4                                       AIXI  "
      ]
     },
     "execution_count": 11,
     "metadata": {},
     "output_type": "execute_result"
    }
   ],
   "source": [
    "wiki_df = pd.DataFrame(list(cli.wiki_mongo_database.wiki_mongo_collection.find({})))\n",
    "wiki_df.head()"
   ]
  },
  {
   "cell_type": "code",
   "execution_count": 14,
   "metadata": {
    "scrolled": true
   },
   "outputs": [
    {
     "data": {
      "text/html": [
       "<div>\n",
       "<table border=\"1\" class=\"dataframe\">\n",
       "  <thead>\n",
       "    <tr style=\"text-align: right;\">\n",
       "      <th></th>\n",
       "      <th>pageid</th>\n",
       "    </tr>\n",
       "    <tr>\n",
       "      <th>category</th>\n",
       "      <th></th>\n",
       "    </tr>\n",
       "  </thead>\n",
       "  <tbody>\n",
       "    <tr>\n",
       "      <th>Business intelligence</th>\n",
       "      <td>1174</td>\n",
       "    </tr>\n",
       "    <tr>\n",
       "      <th>Geographic information systems</th>\n",
       "      <td>470</td>\n",
       "    </tr>\n",
       "    <tr>\n",
       "      <th>Microsoft Office</th>\n",
       "      <td>109</td>\n",
       "    </tr>\n",
       "    <tr>\n",
       "      <th>Petroleum</th>\n",
       "      <td>1414</td>\n",
       "    </tr>\n",
       "    <tr>\n",
       "      <th>Statistical_methods</th>\n",
       "      <td>345</td>\n",
       "    </tr>\n",
       "    <tr>\n",
       "      <th>Taiwan</th>\n",
       "      <td>582</td>\n",
       "    </tr>\n",
       "    <tr>\n",
       "      <th>Yoga</th>\n",
       "      <td>494</td>\n",
       "    </tr>\n",
       "    <tr>\n",
       "      <th>machine learning</th>\n",
       "      <td>1077</td>\n",
       "    </tr>\n",
       "  </tbody>\n",
       "</table>\n",
       "</div>"
      ],
      "text/plain": [
       "                                pageid\n",
       "category                              \n",
       "Business intelligence             1174\n",
       "Geographic information systems     470\n",
       "Microsoft Office                   109\n",
       "Petroleum                         1414\n",
       "Statistical_methods                345\n",
       "Taiwan                             582\n",
       "Yoga                               494\n",
       "machine learning                  1077"
      ]
     },
     "execution_count": 14,
     "metadata": {},
     "output_type": "execute_result"
    }
   ],
   "source": [
    "wiki_df[['pageid']].\\\n",
    "    groupby(wiki_df['category']).count()"
   ]
  },
  {
   "cell_type": "code",
   "execution_count": 59,
   "metadata": {
    "scrolled": true
   },
   "outputs": [
    {
     "data": {
      "text/plain": [
       "<pymongo.results.UpdateResult at 0x7f27eda487e0>"
      ]
     },
     "execution_count": 59,
     "metadata": {},
     "output_type": "execute_result"
    }
   ],
   "source": [
    "#wiki_mongo_collection.update_many({\"category\":'Yogis'}, {'$set': {\"category\":'Yoga'}})"
   ]
  },
  {
   "cell_type": "code",
   "execution_count": null,
   "metadata": {
    "collapsed": true
   },
   "outputs": [],
   "source": [
    "# wiki_mongo_collection.remove({\"category\":'Petroleum'})\n",
    "# wiki_mongo_collection.drop()"
   ]
  }
 ],
 "metadata": {
  "kernelspec": {
   "display_name": "Python 3",
   "language": "python",
   "name": "python3"
  },
  "language_info": {
   "codemirror_mode": {
    "name": "ipython",
    "version": 3
   },
   "file_extension": ".py",
   "mimetype": "text/x-python",
   "name": "python",
   "nbconvert_exporter": "python",
   "pygments_lexer": "ipython3",
   "version": "3.5.2"
  }
 },
 "nbformat": 4,
 "nbformat_minor": 2
}
