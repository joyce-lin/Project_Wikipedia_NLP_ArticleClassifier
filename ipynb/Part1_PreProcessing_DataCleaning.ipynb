{
 "cells": [
  {
   "cell_type": "code",
   "execution_count": null,
   "metadata": {
    "scrolled": true
   },
   "outputs": [],
   "source": [
    "!pip install pymongo\n",
    "import pymongo\n",
    "cli = pymongo.MongoClient(host='34.210.97.79')"
   ]
  },
  {
   "cell_type": "code",
   "execution_count": 2,
   "metadata": {},
   "outputs": [
    {
     "data": {
      "text/plain": [
       "['admin', 'local', 'wiki_mongo_database', 'wiki_mongo_db']"
      ]
     },
     "execution_count": 2,
     "metadata": {},
     "output_type": "execute_result"
    }
   ],
   "source": [
    "cli.database_names()"
   ]
  },
  {
   "cell_type": "code",
   "execution_count": 3,
   "metadata": {},
   "outputs": [
    {
     "name": "stdout",
     "output_type": "stream",
     "text": [
      "Requirement already satisfied (use --upgrade to upgrade): nltk in /opt/conda/lib/python3.5/site-packages\r\n",
      "Requirement already satisfied (use --upgrade to upgrade): six in /opt/conda/lib/python3.5/site-packages (from nltk)\r\n",
      "\u001b[33mYou are using pip version 8.1.2, however version 9.0.1 is available.\r\n",
      "You should consider upgrading via the 'pip install --upgrade pip' command.\u001b[0m\r\n"
     ]
    }
   ],
   "source": [
    "import pandas as pd\n",
    "import numpy as np\n",
    "from IPython import display\n",
    "from bs4 import BeautifulSoup\n",
    "import requests\n",
    "!pip install nltk\n",
    "import nltk\n",
    "\n",
    "import re\n",
    "from spacy.en import STOP_WORDS\n",
    "from spacy.en import English\n",
    "nlp = English()"
   ]
  },
  {
   "cell_type": "code",
   "execution_count": 4,
   "metadata": {},
   "outputs": [
    {
     "data": {
      "text/plain": [
       "5665"
      ]
     },
     "execution_count": 4,
     "metadata": {},
     "output_type": "execute_result"
    }
   ],
   "source": [
    "wiki_mongo_database = cli.wiki_mongo_database\n",
    "wiki_mongo_collection = cli.wiki_mongo_database.wiki_mongo_collection\n",
    "wiki_mongo_collection.count()"
   ]
  },
  {
   "cell_type": "code",
   "execution_count": null,
   "metadata": {},
   "outputs": [],
   "source": [
    "df = pd.DataFrame(list(cli.wiki_mongo_database.wiki_mongo_collection.find({})))\n",
    "df.sort(columns='clean_content',ascending=True)"
   ]
  },
  {
   "cell_type": "code",
   "execution_count": null,
   "metadata": {
    "collapsed": true
   },
   "outputs": [],
   "source": []
  },
  {
   "cell_type": "code",
   "execution_count": null,
   "metadata": {
    "collapsed": true
   },
   "outputs": [],
   "source": [
    "def cleaner(text):\n",
    "    text = text.lower()\n",
    "    text = re.sub('<.{0,3}>',' ',text)\n",
    "    text = re.sub('{.*\\.*}',' ',text)\n",
    "    text = re.sub('{.*\\+.*}',' ',text)\n",
    "    #text = re.sub('[\\W]',' ',text)\n",
    "    text = re.sub('[^a-z]',' ',text)\n",
    "    text = ' '.join( [w for w in text.split() if len(w)>1] )\n",
    "    #text = re.sub('/(?<!\\S).(?!\\S)\\s*/',' ',text)\n",
    "    text = re.sub('aa','a',text)\n",
    "    text = re.sub('[0-9]','',text)\n",
    "    text = re.sub('\\s+',' ',text)\n",
    "    text = ' '.join([i.lemma_ for i in nlp(text) \n",
    "                     if i.orth_ not in STOP_WORDS])\n",
    "    return text"
   ]
  },
  {
   "cell_type": "code",
   "execution_count": null,
   "metadata": {
    "collapsed": true
   },
   "outputs": [],
   "source": [
    "for i in range(wiki_mongo_collection.count()):\n",
    "    cur = wiki_mongo_collection.find()[i]\n",
    "    content = cur['content']\n",
    "    cleaned_content = cleaner(content)\n",
    "    wiki_mongo_collection.update_one(\n",
    "        {'content':content},\n",
    "        {'$set': {'clean_content':cleaner(content)}}\n",
    "        )"
   ]
  },
  {
   "cell_type": "code",
   "execution_count": null,
   "metadata": {},
   "outputs": [],
   "source": [
    "wiki_mongo_collection.delete_many({'title':{'$regex':\"File:.*\"}})\n",
    "wiki_mongo_collection.delete_many({\"clean_content\":''})\n",
    "wiki_mongo_collection.delete_many( { 'clean_content': None })"
   ]
  },
  {
   "cell_type": "code",
   "execution_count": 5,
   "metadata": {},
   "outputs": [
    {
     "data": {
      "text/plain": [
       "5665"
      ]
     },
     "execution_count": 5,
     "metadata": {},
     "output_type": "execute_result"
    }
   ],
   "source": [
    "wiki_mongo_collection.count()"
   ]
  },
  {
   "cell_type": "code",
   "execution_count": null,
   "metadata": {},
   "outputs": [],
   "source": []
  },
  {
   "cell_type": "code",
   "execution_count": null,
   "metadata": {
    "scrolled": false
   },
   "outputs": [],
   "source": [
    "df[df['clean_content'].isnull() == True]"
   ]
  },
  {
   "cell_type": "code",
   "execution_count": null,
   "metadata": {},
   "outputs": [],
   "source": []
  },
  {
   "cell_type": "code",
   "execution_count": null,
   "metadata": {
    "scrolled": true
   },
   "outputs": [],
   "source": [
    "df = pd.DataFrame(list(cli.wiki_mongo_database.wiki_mongo_collection.find({})))\n",
    "print(df.count())\n",
    "df.sort('clean_content').head(10)"
   ]
  }
 ],
 "metadata": {
  "kernelspec": {
   "display_name": "Python 3",
   "language": "python",
   "name": "python3"
  },
  "language_info": {
   "codemirror_mode": {
    "name": "ipython",
    "version": 3
   },
   "file_extension": ".py",
   "mimetype": "text/x-python",
   "name": "python",
   "nbconvert_exporter": "python",
   "pygments_lexer": "ipython3",
   "version": "3.5.2"
  }
 },
 "nbformat": 4,
 "nbformat_minor": 2
}
